{
 "cells": [
  {
   "cell_type": "markdown",
   "metadata": {},
   "source": [
    "# PYTHON IMAGE PROCESSING "
   ]
  },
  {
   "cell_type": "markdown",
   "metadata": {},
   "source": [
    "## Import Libraries"
   ]
  },
  {
   "cell_type": "code",
   "execution_count": 1,
   "metadata": {
    "ExecuteTime": {
     "end_time": "2021-01-17T07:26:05.979303Z",
     "start_time": "2021-01-17T07:26:05.453045Z"
    }
   },
   "outputs": [],
   "source": [
    "import PIL #pillow\n",
    "#from PIL import Image # to create image object\n",
    "#from PIL import ImageOps # for operations on image\n",
    "#from PIL import ImageDraw , ImageFont , ImageColor # for drawing or texting on image\n",
    "#from PIL import ImageFilter # for image effects\n",
    "from PIL import Image , ImageOps , ImageDraw , ImageFont ,ImageColor, ImageFilter\n",
    "\n",
    "import numpy as np\n",
    "import cv2\n",
    "\n",
    "\n",
    "import matplotlib.pyplot as plt"
   ]
  },
  {
   "cell_type": "markdown",
   "metadata": {},
   "source": [
    "## Loading image"
   ]
  },
  {
   "cell_type": "code",
   "execution_count": 2,
   "metadata": {
    "ExecuteTime": {
     "end_time": "2021-01-17T07:26:09.364140Z",
     "start_time": "2021-01-17T07:26:05.981303Z"
    }
   },
   "outputs": [],
   "source": [
    "im = Image.open(\"Images/sibs8.jpg\") #image in same folder or specify path\n",
    "im.show() "
   ]
  },
  {
   "cell_type": "markdown",
   "metadata": {},
   "source": [
    "## Getting Image data"
   ]
  },
  {
   "cell_type": "code",
   "execution_count": 3,
   "metadata": {
    "ExecuteTime": {
     "end_time": "2021-01-17T07:26:09.429106Z",
     "start_time": "2021-01-17T07:26:09.364140Z"
    }
   },
   "outputs": [
    {
     "name": "stdout",
     "output_type": "stream",
     "text": [
      "JPEG\n",
      "RGB\n",
      "(720, 1280)\n",
      "720\n",
      "1280\n",
      "{'jfif': 257, 'jfif_version': (1, 1), 'jfif_unit': 0, 'jfif_density': (1, 1), 'progressive': 1, 'progression': 1}\n"
     ]
    }
   ],
   "source": [
    "print(im.format)\n",
    "print(im.mode) #coloured RGB or gray scaled\n",
    "print(im.size)\n",
    "print(im.width)\n",
    "print(im.height)\n",
    "print(im.info)"
   ]
  },
  {
   "cell_type": "markdown",
   "metadata": {},
   "source": [
    "## Saving Image"
   ]
  },
  {
   "cell_type": "code",
   "execution_count": 4,
   "metadata": {
    "ExecuteTime": {
     "end_time": "2021-01-17T07:26:09.870106Z",
     "start_time": "2021-01-17T07:26:09.432116Z"
    }
   },
   "outputs": [],
   "source": [
    "#image in same folder or specify path\n",
    "im.save(\"Images/we.png\") #can save with different formats"
   ]
  },
  {
   "cell_type": "markdown",
   "metadata": {},
   "source": [
    "## Image operations"
   ]
  },
  {
   "cell_type": "code",
   "execution_count": 5,
   "metadata": {
    "ExecuteTime": {
     "end_time": "2021-01-17T07:26:11.286091Z",
     "start_time": "2021-01-17T07:26:09.871109Z"
    }
   },
   "outputs": [],
   "source": [
    "# flip vertically\n",
    "im2 = ImageOps.flip(im)\n",
    "im2.show()"
   ]
  },
  {
   "cell_type": "code",
   "execution_count": 6,
   "metadata": {
    "ExecuteTime": {
     "end_time": "2021-01-17T07:26:12.940977Z",
     "start_time": "2021-01-17T07:26:11.286091Z"
    }
   },
   "outputs": [],
   "source": [
    "# flip horizontally\n",
    "im2 = ImageOps.mirror(im)\n",
    "im2.show()"
   ]
  },
  {
   "cell_type": "code",
   "execution_count": 7,
   "metadata": {
    "ExecuteTime": {
     "end_time": "2021-01-17T07:26:14.769865Z",
     "start_time": "2021-01-17T07:26:12.940977Z"
    }
   },
   "outputs": [],
   "source": [
    "# convert to gray scale\n",
    "im2 = ImageOps.grayscale(im)\n",
    "im2.show()"
   ]
  },
  {
   "cell_type": "code",
   "execution_count": 8,
   "metadata": {
    "ExecuteTime": {
     "end_time": "2021-01-17T07:26:16.570983Z",
     "start_time": "2021-01-17T07:26:14.781288Z"
    }
   },
   "outputs": [],
   "source": [
    "# invert image\n",
    "im2 = ImageOps.invert(im)\n",
    "im2.show()"
   ]
  },
  {
   "cell_type": "code",
   "execution_count": null,
   "metadata": {},
   "outputs": [],
   "source": []
  },
  {
   "cell_type": "markdown",
   "metadata": {},
   "source": [
    "## Image Transformations"
   ]
  },
  {
   "cell_type": "code",
   "execution_count": 9,
   "metadata": {
    "ExecuteTime": {
     "end_time": "2021-01-17T07:26:18.558335Z",
     "start_time": "2021-01-17T07:26:16.570983Z"
    }
   },
   "outputs": [],
   "source": [
    "# rotate image\n",
    "im2 = im.rotate(90)# defulat left ,for right use negative angles\n",
    "im2.show()"
   ]
  },
  {
   "cell_type": "code",
   "execution_count": 10,
   "metadata": {
    "ExecuteTime": {
     "end_time": "2021-01-17T07:26:20.035926Z",
     "start_time": "2021-01-17T07:26:18.558335Z"
    }
   },
   "outputs": [],
   "source": [
    "# resize image\n",
    "im2 = im.resize((700,500))\n",
    "im2.show()"
   ]
  },
  {
   "cell_type": "markdown",
   "metadata": {},
   "source": [
    "## Add text to Image"
   ]
  },
  {
   "cell_type": "code",
   "execution_count": 11,
   "metadata": {
    "ExecuteTime": {
     "end_time": "2021-01-17T07:26:20.052796Z",
     "start_time": "2021-01-17T07:26:20.035926Z"
    }
   },
   "outputs": [],
   "source": [
    "# #need to reopen to undo changes in im2 for next execution \n",
    "# im2 = Image.open(\"Images/sibs8.jpg\")\n",
    "\n",
    "# d2 = ImageDraw.Draw(im2)\n",
    "# myFont = ImageFont.truetype(\"Fonts/Blenda Script.otf\",80)#load font,size\n",
    "# d2.text((20,20) , \"Reddaa\" ,font = myFont, fill = (255,0,0))#pos,txt,font,color\n",
    "# d2.text((400,20) , \"Mhaishuu\" ,font = myFont, fill = (0,0,0))\n",
    "# im2.show()"
   ]
  },
  {
   "cell_type": "markdown",
   "metadata": {},
   "source": [
    "## Crop and Paste"
   ]
  },
  {
   "cell_type": "code",
   "execution_count": 12,
   "metadata": {
    "ExecuteTime": {
     "end_time": "2021-01-17T07:26:21.873481Z",
     "start_time": "2021-01-17T07:26:20.060804Z"
    }
   },
   "outputs": [],
   "source": [
    "#crop\n",
    "box = (0,100 ,600,900) #(x1,y1 ,x2,y2)\n",
    "cropimg = im.crop(box)\n",
    "cropimg.show()"
   ]
  },
  {
   "cell_type": "code",
   "execution_count": 13,
   "metadata": {
    "ExecuteTime": {
     "end_time": "2021-01-17T07:26:23.517821Z",
     "start_time": "2021-01-17T07:26:21.873481Z"
    }
   },
   "outputs": [],
   "source": [
    "# paste one image on another\n",
    "im = Image.open(\"Images/sibs8.jpg\")\n",
    "im.paste(cropimg , (80,0))\n",
    "im.paste(cropimg , (80,600))\n",
    "im.show()"
   ]
  },
  {
   "cell_type": "markdown",
   "metadata": {},
   "source": [
    "## Kernels"
   ]
  },
  {
   "cell_type": "code",
   "execution_count": 14,
   "metadata": {
    "ExecuteTime": {
     "end_time": "2021-01-17T07:26:23.584292Z",
     "start_time": "2021-01-17T07:26:23.517821Z"
    }
   },
   "outputs": [],
   "source": [
    "##Two smoothing (averaging) filter masks\n",
    "smooth1 = np.array(( \n",
    "            (1,1,1),\n",
    "            (1,1,1),\n",
    "            (1,1,1),\n",
    "            )) /9\n",
    "\n",
    "smooth2 = np.array((\n",
    "            (1,2,1),\n",
    "            (2,4,2),\n",
    "            (1,2,1),\n",
    "            )) /16\n",
    "\n",
    "\n",
    "laplacian_edge = np.array((\n",
    "            (-1,-1,-1),\n",
    "            (-1,8,-1),\n",
    "            (-1,-1,-1),\n",
    "            ))\n",
    "\n",
    "\n",
    "##Using the Second Derivative for Image Sharpening—The Laplacian\n",
    "\n",
    "laplacian_sharp1 = np.array((\n",
    "            (0,1,0),\n",
    "            (1,-4,1),\n",
    "            (0,1,0),\n",
    "            ))\n",
    "\n",
    "laplacian_sharp2 = np.array((\n",
    "            (0,-1,0),\n",
    "            (-1,4,-1),\n",
    "            (0,-1,0),\n",
    "            ))\n",
    "\n",
    "laplacian_sharp3 = np.array((\n",
    "            (1,1,1),\n",
    "            (1,-8,1),\n",
    "            (1,1,1),\n",
    "            ))\n",
    "\n",
    "laplacian_sharp4 = np.array((\n",
    "            (-1,-1,-1),\n",
    "            (-1,8,-1),\n",
    "            (-1,-1,-1),\n",
    "            ))\n",
    "\n",
    "# Roberts Cross gradient masks\n",
    "\n",
    "cross_grad1 = np.array((\n",
    "            (-1 ,  0),\n",
    "            (0 ,  1),\n",
    "            ))\n",
    "\n",
    "cross_grad2 = np.array((\n",
    "            (0 ,  -1),\n",
    "            (1 ,  0),\n",
    "            ))\n",
    "\n",
    "\n",
    "sobel_gx = np.array((\n",
    "            (-1,-2,-1),\n",
    "            (0,0,0),\n",
    "            (1,2,1),\n",
    "            ))\n",
    "\n",
    "sobel_gy = np.array((\n",
    "            (-1,0,1),\n",
    "            (-2,0,2),\n",
    "            (-1,0,1),\n",
    "            ))"
   ]
  },
  {
   "cell_type": "markdown",
   "metadata": {},
   "source": [
    "## Image Effects"
   ]
  },
  {
   "cell_type": "code",
   "execution_count": 15,
   "metadata": {
    "ExecuteTime": {
     "end_time": "2021-01-17T07:26:26.348381Z",
     "start_time": "2021-01-17T07:26:23.588970Z"
    }
   },
   "outputs": [],
   "source": [
    "im = Image.open(\"Images/sibs8.jpg\")\n",
    "blurimg = im.filter(ImageFilter.BLUR)#press tab after ImageFilter.\n",
    "blurimg.show()"
   ]
  },
  {
   "cell_type": "code",
   "execution_count": 16,
   "metadata": {
    "ExecuteTime": {
     "end_time": "2021-01-17T07:26:27.828997Z",
     "start_time": "2021-01-17T07:26:26.348381Z"
    }
   },
   "outputs": [],
   "source": [
    "blurimg = im.filter(ImageFilter.GaussianBlur(2))\n",
    "blurimg.show()"
   ]
  },
  {
   "cell_type": "code",
   "execution_count": 17,
   "metadata": {
    "ExecuteTime": {
     "end_time": "2021-01-17T07:26:29.210086Z",
     "start_time": "2021-01-17T07:26:27.828997Z"
    }
   },
   "outputs": [],
   "source": [
    "#radius – Size of the box in one direction. Radius 0 does not blur, returns an identical image. \n",
    "#Radius 1 takes 1 pixel in each direction, i.e. 9 pixels in total.\n",
    "\n",
    "boxblurimg = im.filter(ImageFilter.BoxBlur(0))\n",
    "boxblurimg.show()"
   ]
  },
  {
   "cell_type": "code",
   "execution_count": 18,
   "metadata": {
    "ExecuteTime": {
     "end_time": "2021-01-17T07:26:30.792017Z",
     "start_time": "2021-01-17T07:26:29.216097Z"
    }
   },
   "outputs": [],
   "source": [
    "enhcimg = im.filter(ImageFilter.EDGE_ENHANCE)\n",
    "enhcimg.show()"
   ]
  },
  {
   "cell_type": "code",
   "execution_count": 19,
   "metadata": {
    "ExecuteTime": {
     "end_time": "2021-01-17T07:26:33.481274Z",
     "start_time": "2021-01-17T07:26:30.792017Z"
    }
   },
   "outputs": [],
   "source": [
    "embsimg = im.filter(ImageFilter.EMBOSS)\n",
    "embsimg.show()"
   ]
  },
  {
   "cell_type": "code",
   "execution_count": 20,
   "metadata": {
    "ExecuteTime": {
     "end_time": "2021-01-17T07:26:35.887222Z",
     "start_time": "2021-01-17T07:26:33.481274Z"
    }
   },
   "outputs": [],
   "source": [
    "cntrimg = im.filter(ImageFilter.CONTOUR)\n",
    "cntrimg.show()"
   ]
  },
  {
   "cell_type": "code",
   "execution_count": 21,
   "metadata": {
    "ExecuteTime": {
     "end_time": "2021-01-17T07:26:37.326855Z",
     "start_time": "2021-01-17T07:26:35.887222Z"
    }
   },
   "outputs": [],
   "source": [
    "sharpimg = im.filter(ImageFilter.SHARPEN)\n",
    "sharpimg.show()"
   ]
  },
  {
   "cell_type": "code",
   "execution_count": 22,
   "metadata": {
    "ExecuteTime": {
     "end_time": "2021-01-17T07:26:39.512388Z",
     "start_time": "2021-01-17T07:26:37.326855Z"
    }
   },
   "outputs": [],
   "source": [
    "smthimg = im.filter(ImageFilter.SMOOTH)\n",
    "smthimg.show()"
   ]
  },
  {
   "cell_type": "code",
   "execution_count": 23,
   "metadata": {
    "ExecuteTime": {
     "end_time": "2021-01-17T07:26:41.123355Z",
     "start_time": "2021-01-17T07:26:39.528047Z"
    }
   },
   "outputs": [],
   "source": [
    "im2 = ImageOps.grayscale(im)\n",
    "im2.show()\n",
    "#im2 = im.convert('L')"
   ]
  },
  {
   "cell_type": "code",
   "execution_count": 24,
   "metadata": {
    "ExecuteTime": {
     "end_time": "2021-01-17T07:26:43.203407Z",
     "start_time": "2021-01-17T07:26:41.123355Z"
    }
   },
   "outputs": [],
   "source": [
    "maximg = im2.filter(ImageFilter.MaxFilter(3)) # makes image light # 3 is kernel size i.e. 3x3\n",
    "maximg.show()"
   ]
  },
  {
   "cell_type": "code",
   "execution_count": 25,
   "metadata": {
    "ExecuteTime": {
     "end_time": "2021-01-17T07:26:45.578451Z",
     "start_time": "2021-01-17T07:26:43.203407Z"
    }
   },
   "outputs": [],
   "source": [
    "minimg = im2.filter(ImageFilter.MinFilter(3)) # makes image dark\n",
    "minimg.show()"
   ]
  },
  {
   "cell_type": "code",
   "execution_count": 26,
   "metadata": {
    "ExecuteTime": {
     "end_time": "2021-01-17T07:26:47.712883Z",
     "start_time": "2021-01-17T07:26:45.578451Z"
    }
   },
   "outputs": [],
   "source": [
    "medimg = im2.filter(ImageFilter.MedianFilter(3)) # makes image dark\n",
    "medimg.show()"
   ]
  },
  {
   "cell_type": "code",
   "execution_count": 27,
   "metadata": {
    "ExecuteTime": {
     "end_time": "2021-01-17T07:26:49.769187Z",
     "start_time": "2021-01-17T07:26:47.712883Z"
    }
   },
   "outputs": [],
   "source": [
    "thresh = 100\n",
    "fn = lambda x : 255 if x > thresh else 0\n",
    "im3 = im2.convert('L').point(fn, mode='L')\n",
    "im3.show()"
   ]
  },
  {
   "cell_type": "code",
   "execution_count": null,
   "metadata": {},
   "outputs": [],
   "source": []
  },
  {
   "cell_type": "markdown",
   "metadata": {},
   "source": [
    "## Create Image"
   ]
  },
  {
   "cell_type": "code",
   "execution_count": 28,
   "metadata": {
    "ExecuteTime": {
     "end_time": "2021-01-17T07:26:52.359174Z",
     "start_time": "2021-01-17T07:26:49.769187Z"
    }
   },
   "outputs": [],
   "source": [
    "img = Image.new(\"RGB\" , (500,500) , ImageColor.getrgb(\"cyan\")) \n",
    "#cyan image or use colour codes hexadecimal or rgb value\n",
    "img.show()"
   ]
  },
  {
   "cell_type": "code",
   "execution_count": 29,
   "metadata": {
    "ExecuteTime": {
     "end_time": "2021-01-17T07:26:53.676925Z",
     "start_time": "2021-01-17T07:26:52.359174Z"
    }
   },
   "outputs": [],
   "source": [
    "img = Image.new(\"RGB\" , (500,500) , ImageColor.getrgb(\"cyan\")) \n",
    "draw = ImageDraw.Draw(img)\n",
    "#draw line\n",
    "draw.line([(0,0) , (200,200)],fill = \"red\" , width= 5)\n",
    "#draw circle\n",
    "draw.ellipse((50,100 ,150,200) ,fill = \"green\" , outline = \"black\" )\n",
    "#draw rectangle\n",
    "draw.rectangle((300,100 ,450,200) ,fill = \"blue\" , outline = \"black\" )\n",
    "img.show()"
   ]
  },
  {
   "cell_type": "markdown",
   "metadata": {},
   "source": [
    "## Pixels on Image"
   ]
  },
  {
   "cell_type": "code",
   "execution_count": 30,
   "metadata": {
    "ExecuteTime": {
     "end_time": "2021-01-17T07:26:55.063143Z",
     "start_time": "2021-01-17T07:26:53.683559Z"
    }
   },
   "outputs": [],
   "source": [
    "img = Image.new(\"RGB\" , (500,500) , ImageColor.getrgb(\"cyan\")) \n",
    "width , height = img.size\n",
    "\n",
    "for x in range(height):\n",
    "    img.putpixel((x,x) ,(0,0,0,255)) #position , color\n",
    "    img.putpixel((x,-x) ,(0,0,0,255))\n",
    "    img.putpixel((x,100) ,(0,0,0,255))\n",
    "\n",
    "img.show()"
   ]
  },
  {
   "cell_type": "markdown",
   "metadata": {},
   "source": [
    "## Creating Image with array"
   ]
  },
  {
   "cell_type": "code",
   "execution_count": 31,
   "metadata": {
    "ExecuteTime": {
     "end_time": "2021-01-17T07:26:55.106608Z",
     "start_time": "2021-01-17T07:26:55.063143Z"
    }
   },
   "outputs": [
    {
     "name": "stdout",
     "output_type": "stream",
     "text": [
      "[[ 10  12  10  11  12]\n",
      " [ 11 200 201 200 202]\n",
      " [ 11 200  11  12  10]\n",
      " [ 10 201  10  11  11]\n",
      " [ 10 200  11  12  10]]\n",
      "\n",
      "\n",
      " [[ 10  12  10  11  12]\n",
      " [ 11 200 201 200 202]\n",
      " [ 11 200  11  12  10]\n",
      " [ 10 201  10  11  11]\n",
      " [ 10 200  11  12  10]]\n",
      "\n",
      "\n",
      " L\n"
     ]
    }
   ],
   "source": [
    "imgarr = np.array((\n",
    "        (10, 12, 10, 11, 12),\n",
    "        (11,200, 201, 200, 202),\n",
    "        (11, 200, 11, 12, 10),\n",
    "        (10, 201, 10, 11, 11),\n",
    "        (10, 200, 11, 12, 10),\n",
    "      ))\n",
    "\n",
    "print(imgarr)\n",
    "\n",
    "img=Image.fromarray(imgarr)\n",
    "#img=ImageOps.grayscale(img)\n",
    "img = img.convert('L')\n",
    "#img.show()\n",
    "print(\"\\n\\n\" , np.asarray(img))\n",
    "print(\"\\n\\n\" ,img.mode)"
   ]
  },
  {
   "cell_type": "markdown",
   "metadata": {},
   "source": [
    "## Chapter 2 - Basic Fundamentals"
   ]
  },
  {
   "cell_type": "markdown",
   "metadata": {},
   "source": [
    "## Applying Some Filters"
   ]
  },
  {
   "cell_type": "code",
   "execution_count": 32,
   "metadata": {
    "ExecuteTime": {
     "end_time": "2021-01-17T07:26:55.457021Z",
     "start_time": "2021-01-17T07:26:55.109233Z"
    }
   },
   "outputs": [
    {
     "name": "stdout",
     "output_type": "stream",
     "text": [
      "\n",
      "\n",
      " [[200 201 201 202 202]\n",
      " [200 201 201 202 202]\n",
      " [201 201 201 202 202]\n",
      " [201 201 201  12  12]\n",
      " [201 201 201  12  12]]\n",
      "\n",
      "\n",
      " [[10 10 10 10 11]\n",
      " [10 10 10 10 10]\n",
      " [10 10 10 10 10]\n",
      " [10 10 10 10 10]\n",
      " [10 10 10 10 10]]\n",
      "\n",
      "\n",
      " [[ 11  11  12  12  12]\n",
      " [ 11  11  12  12  12]\n",
      " [ 11  11 200  11  11]\n",
      " [ 11  11  12  11  11]\n",
      " [ 10  11  12  11  11]]\n"
     ]
    }
   ],
   "source": [
    "\n",
    "maximg = img.filter(ImageFilter.MaxFilter(3))\n",
    "print(\"\\n\\n\" , np.asarray(maximg))\n",
    "\n",
    "minimg = img.filter(ImageFilter.MinFilter(3))\n",
    "print(\"\\n\\n\" , np.asarray(minimg))\n",
    "\n",
    "medimg = img.filter(ImageFilter.MedianFilter(3))\n",
    "print(\"\\n\\n\" , np.asarray(medimg))"
   ]
  },
  {
   "cell_type": "code",
   "execution_count": 33,
   "metadata": {
    "ExecuteTime": {
     "end_time": "2021-01-17T07:26:55.655078Z",
     "start_time": "2021-01-17T07:26:55.463228Z"
    }
   },
   "outputs": [
    {
     "name": "stdout",
     "output_type": "stream",
     "text": [
      "\n",
      "\n",
      " [[ 10  12  10  11  12]\n",
      " [ 11 200 201 200 202]\n",
      " [ 11 200  11  12  10]\n",
      " [ 10 201  10  11  11]\n",
      " [ 10 200  11  12  10]]\n",
      "\n",
      "\n",
      " [[  0   0   0   0   0]\n",
      " [  0 255 255 255 255]\n",
      " [  0 255   0   0   0]\n",
      " [  0 255   0   0   0]\n",
      " [  0 255   0   0   0]]\n"
     ]
    }
   ],
   "source": [
    "print(\"\\n\\n\" , np.asarray(img))\n",
    "\n",
    "# Binary Image\n",
    "thresh = 128\n",
    "fn = lambda x : 255 if x > thresh else 0  # lambda arguments : expression\n",
    "im3 = img.convert('L').point(fn, mode='L')#mode = 1 for T/F \n",
    "print(\"\\n\\n\" , np.asarray(im3))"
   ]
  },
  {
   "cell_type": "code",
   "execution_count": 34,
   "metadata": {
    "ExecuteTime": {
     "end_time": "2021-01-17T07:26:55.806950Z",
     "start_time": "2021-01-17T07:26:55.660560Z"
    }
   },
   "outputs": [
    {
     "name": "stdout",
     "output_type": "stream",
     "text": [
      "\n",
      "\n",
      " [[  0   0   0   0   0]\n",
      " [  0 255 255 255 255]\n",
      " [  0 255   0   0   0]\n",
      " [  0 255   0   0   0]\n",
      " [  0 255   0   0   0]]\n"
     ]
    }
   ],
   "source": [
    "thresh = 120\n",
    "im4 = img.point(lambda p: p > thresh and 255)\n",
    "print(\"\\n\\n\" , np.asarray(im4))"
   ]
  },
  {
   "cell_type": "code",
   "execution_count": 35,
   "metadata": {
    "ExecuteTime": {
     "end_time": "2021-01-17T07:26:55.848947Z",
     "start_time": "2021-01-17T07:26:55.811968Z"
    }
   },
   "outputs": [
    {
     "name": "stdout",
     "output_type": "stream",
     "text": [
      "255\n",
      "0\n",
      "2554\n",
      "255\n",
      "1\n",
      "12\n"
     ]
    }
   ],
   "source": [
    "print(1 and 255)\n",
    "print(0 and 255)\n",
    "print(123 and 2554)\n",
    "print(1234 and 255)\n",
    "print(1 or 255)\n",
    "print(0 or 12)\n"
   ]
  },
  {
   "cell_type": "code",
   "execution_count": 36,
   "metadata": {
    "ExecuteTime": {
     "end_time": "2021-01-17T07:26:56.013046Z",
     "start_time": "2021-01-17T07:26:55.853958Z"
    }
   },
   "outputs": [
    {
     "name": "stdout",
     "output_type": "stream",
     "text": [
      "\n",
      "\n",
      " [[245 243 245 244 243]\n",
      " [244  55  54  55  53]\n",
      " [244  55 244 243 245]\n",
      " [245  54 245 244 244]\n",
      " [245  55 244 243 245]]\n"
     ]
    }
   ],
   "source": [
    "# complement of an image\n",
    "print(\"\\n\\n\" , 255 - np.asarray(img))"
   ]
  },
  {
   "cell_type": "markdown",
   "metadata": {},
   "source": [
    "## Union of Images"
   ]
  },
  {
   "cell_type": "code",
   "execution_count": 37,
   "metadata": {
    "ExecuteTime": {
     "end_time": "2021-01-17T07:26:56.165615Z",
     "start_time": "2021-01-17T07:26:56.019520Z"
    }
   },
   "outputs": [
    {
     "name": "stdout",
     "output_type": "stream",
     "text": [
      "\n",
      "\n",
      " [[ 10  12  10  11  12]\n",
      " [ 11 200 201 200 202]\n",
      " [ 11 200  11  12  10]\n",
      " [ 10 201  10  11  11]\n",
      " [ 10 200  11  12  10]]\n",
      "\n",
      "\n",
      " [[ 13   1   1 110 129]\n",
      " [116   2   2 209 207]\n",
      " [199  20 118   1   0]\n",
      " [109 201  18  11  11]\n",
      " [ 10 200  11  12  10]]\n",
      "\n",
      "\n",
      " [[ 13  12  10 110 129]\n",
      " [116 200 201 209 207]\n",
      " [199 200 118  12  10]\n",
      " [109 201  18  11  11]\n",
      " [ 10 200  11  12  10]]\n"
     ]
    }
   ],
   "source": [
    "## Union of 2 same size images (max of pixels)\n",
    "\n",
    "imgarr1 = np.array((\n",
    "        (10, 12, 10, 11, 12),\n",
    "        (11,200, 201, 200, 202),\n",
    "        (11, 200, 11, 12, 10),\n",
    "        (10, 201, 10, 11, 11),\n",
    "        (10, 200, 11, 12, 10),\n",
    "      ))\n",
    "\n",
    "\n",
    "\n",
    "img1=Image.fromarray(imgarr1)\n",
    "img1=ImageOps.grayscale(img1)\n",
    "#img.show()\n",
    "print(\"\\n\\n\" , np.asarray(img1))\n",
    "\n",
    "imgarr2 = np.array((\n",
    "        (13, 1, 1, 110, 129),\n",
    "        (116,2, 2, 209, 207),\n",
    "        (199, 20, 118, 1, 0),\n",
    "        (109, 201, 18, 11, 11),\n",
    "        (10, 200, 11, 12, 10),\n",
    "      ))\n",
    "\n",
    "\n",
    "\n",
    "img2=Image.fromarray(imgarr2)\n",
    "img2=ImageOps.grayscale(img2)\n",
    "#img.show()\n",
    "print(\"\\n\\n\" , np.asarray(img2))\n",
    "\n",
    "\n",
    "\n",
    "def Image_union(pil_img1 , pil_img2):\n",
    "    arr1 = np.asarray(img1)\n",
    "    arr2 = np.asarray(img2)\n",
    "    \n",
    "    width, height = pil_img1.size\n",
    "    Resultarr = np.zeros((width,height),dtype=int)\n",
    "    \n",
    "    for i in range(0,width):\n",
    "        for j in range(0,height):\n",
    "             Resultarr[i][j] = max(arr1[i][j] ,arr2[i][j])\n",
    "    \n",
    "    \n",
    "    Result=Image.fromarray(Resultarr)\n",
    "    return Result\n",
    "    \n",
    "\n",
    "Unionimg = Image_union(img1 , img2) #pass 2 images \n",
    "print(\"\\n\\n\" , np.asarray(Unionimg))"
   ]
  },
  {
   "cell_type": "markdown",
   "metadata": {},
   "source": [
    "## Chapter 3 - Intensity Transformations "
   ]
  },
  {
   "cell_type": "code",
   "execution_count": 38,
   "metadata": {
    "ExecuteTime": {
     "end_time": "2021-01-17T07:26:56.347661Z",
     "start_time": "2021-01-17T07:26:56.171601Z"
    }
   },
   "outputs": [
    {
     "name": "stdout",
     "output_type": "stream",
     "text": [
      "\n",
      "\n",
      " [[ 10  12  10  11  12]\n",
      " [ 11 200 201 200 202]\n",
      " [ 11 200  11  12  10]\n",
      " [ 10 201  10  11  11]\n",
      " [ 10 200  11  12  10]]\n"
     ]
    }
   ],
   "source": [
    "imgarr = np.array((\n",
    "        (10, 12, 10, 11, 12),\n",
    "        (11,200, 201, 200, 202),\n",
    "        (11, 200, 11, 12, 10),\n",
    "        (10, 201, 10, 11, 11),\n",
    "        (10, 200, 11, 12, 10),\n",
    "      ))\n",
    "\n",
    "\n",
    "img=Image.fromarray(imgarr)\n",
    "#img=ImageOps.grayscale(img)\n",
    "img = img.convert('L')\n",
    "#img.show()\n",
    "print(\"\\n\\n\" , np.asarray(img))"
   ]
  },
  {
   "cell_type": "code",
   "execution_count": 39,
   "metadata": {
    "ExecuteTime": {
     "end_time": "2021-01-17T07:26:56.438424Z",
     "start_time": "2021-01-17T07:26:56.353675Z"
    }
   },
   "outputs": [
    {
     "name": "stdout",
     "output_type": "stream",
     "text": [
      "\n",
      "\n",
      " [[245 243 245 244 243]\n",
      " [244  55  54  55  53]\n",
      " [244  55 244 243 245]\n",
      " [245  54 245 244 244]\n",
      " [245  55 244 243 245]]\n",
      "\n",
      "\n",
      " [[245 243 245 244 243]\n",
      " [244  55  54  55  53]\n",
      " [244  55 244 243 245]\n",
      " [245  54 245 244 244]\n",
      " [245  55 244 243 245]]\n"
     ]
    }
   ],
   "source": [
    "# image negatives\n",
    "# complement of an image\n",
    "\n",
    "print(\"\\n\\n\" , 255 - np.asarray(img))\n",
    "\n",
    "\n",
    "img2 = img.point(lambda p: 255-p)\n",
    "\n",
    "print(\"\\n\\n\" , np.asarray(img2))"
   ]
  },
  {
   "cell_type": "markdown",
   "metadata": {},
   "source": [
    "### When logarithmic transformation is applied onto a digital image, \n",
    "### the darker intensity values are given brighter values \n",
    "### thus making the details present in darker or gray areas of the image more visible to human eyes.\n",
    "### The logarithmic transformation also scales down the brighter intensity values to lower values.\n",
    "### However, the brighter intensity values are not scaled down to the extent the darker intensity values are scaled up.\n",
    "### ‘c’ is the scaling constant.\n",
    "### For a digital image with intensity values ranging from 0 to 255 \n",
    "### the transformation log(r+1) produces value in the range of 0 to 2.41.\n",
    "### Representing pixel values in a smaller range of values from 0 to 2.41 is difficult to comprehend.\n",
    "### Hence, a scaling operation is required to represent the logarithmically transformed intensity values in a bigger range.\n",
    "### The scaling constant ‘c’ does this.\n",
    "### The scaling constant is provided by\n",
    "### c = 255/log(1+Maximum pixel value from the input image)."
   ]
  },
  {
   "cell_type": "code",
   "execution_count": 41,
   "metadata": {
    "ExecuteTime": {
     "end_time": "2021-01-17T07:27:42.225434Z",
     "start_time": "2021-01-17T07:27:42.074257Z"
    }
   },
   "outputs": [
    {
     "name": "stdout",
     "output_type": "stream",
     "text": [
      "\n",
      "\n",
      " [[ 10  12  10  11  12]\n",
      " [ 11 200 201 200 202]\n",
      " [ 11 200  11  12  10]\n",
      " [ 10 201  10  11  11]\n",
      " [ 10 200  11  12  10]]\n",
      "\n",
      "\n",
      " [[115 123 115 119 123]\n",
      " [119 255 255 255 255]\n",
      " [119 255 119 123 115]\n",
      " [115 255 115 119 119]\n",
      " [115 255 119 123 115]]\n",
      "\n",
      "\n",
      " [[ 10  12  10  11  12]\n",
      " [ 11 200 201 200 202]\n",
      " [ 11 200  11  12  10]\n",
      " [ 10 201  10  11  11]\n",
      " [ 10 200  11  12  10]]\n"
     ]
    }
   ],
   "source": [
    "# Compute log\n",
    "import math\n",
    "\n",
    "def logTransform(c, f):\n",
    "\n",
    "    g = c * math.log(float(1 + f),10);\n",
    "\n",
    "    return g;\n",
    "\n",
    " \n",
    "\n",
    "# Apply logarithmic transformation for an image  \n",
    "\n",
    "def logTransformImage(img):\n",
    "\n",
    "    image = img.copy() #making copy of an image to apply transformations\n",
    "    \n",
    "    inputMax=np.asarray(img).max()\n",
    "\n",
    "    c = 255/math.log(inputMax+1,10);\n",
    "   \n",
    "\n",
    "    # Read pixels and apply logarithmic transformation\n",
    "\n",
    "    for i in range(0, image.size[0]):\n",
    "\n",
    "        for j in range(0, image.size[1]):\n",
    "\n",
    "            # Get pixel value at (x,y) position of the image\n",
    "\n",
    "            f = image.getpixel((i,j));\n",
    "\n",
    "           \n",
    "\n",
    "            # Do log transformation of the pixel\n",
    "            if image.mode == 'L':\n",
    "                pixel = round(logTransform(c, f));\n",
    "                \n",
    "            else:\n",
    "                \n",
    "                redPixel    = round(logTransform(c, f[0]));\n",
    "\n",
    "                greenPixel  = round(logTransform(c, f[1]));\n",
    "\n",
    "                bluePixel   = round(logTransform(c, f[2]));\n",
    "\n",
    " \n",
    "\n",
    "            # Modify the image with the transformed pixel values\n",
    "            if (image.mode) == 'L':\n",
    "                \n",
    "                image.putpixel((i,j),pixel);\n",
    "            \n",
    "            else:\n",
    "                             \n",
    "                  image.putpixel((i,j),(redPixel, greenPixel, bluePixel));\n",
    "\n",
    " \n",
    "\n",
    "    return image;\n",
    "\n",
    "   \n",
    "\n",
    "# importing image\n",
    "\n",
    "# imageFileName = \"Images/sibs8.jpg\";\n",
    "\n",
    "# img = Image.open(imageFileName);\n",
    "\n",
    "# img.show();\n",
    "\n",
    " \n",
    "\n",
    "# Display the image after applying the logarithmic transformation\n",
    "\n",
    "print(\"\\n\\n\" , np.asarray(img))\n",
    "\n",
    "logTransformedImage = logTransformImage(img); \n",
    "\n",
    "print(\"\\n\\n\" ,np.asarray(logTransformedImage) )\n",
    "print(\"\\n\\n\" , np.asarray(img))\n",
    "#logTransformedImage.show();"
   ]
  },
  {
   "cell_type": "code",
   "execution_count": null,
   "metadata": {},
   "outputs": [],
   "source": []
  },
  {
   "cell_type": "code",
   "execution_count": 44,
   "metadata": {
    "ExecuteTime": {
     "end_time": "2021-01-17T07:27:56.092863Z",
     "start_time": "2021-01-17T07:27:56.073879Z"
    }
   },
   "outputs": [
    {
     "name": "stdout",
     "output_type": "stream",
     "text": [
      "I\n",
      "\n",
      "\n",
      " [[115 123 115 119 123]\n",
      " [119 255 255 255 255]\n",
      " [119 255 119 123 115]\n",
      " [115 255 115 119 119]\n",
      " [115 255 119 123 115]]\n",
      "\n",
      "\n",
      " [[ 10  12  10  11  12]\n",
      " [ 11 200 201 200 202]\n",
      " [ 11 200  11  12  10]\n",
      " [ 10 201  10  11  11]\n",
      " [ 10 200  11  12  10]]\n"
     ]
    }
   ],
   "source": [
    "def logTransformImg(image):\n",
    "    \n",
    "    img = image.copy()\n",
    "    c = 255/(np.log(1 + np.max(img))) \n",
    "    log_transformed = np.round(c * np.log(1 + np.array(img))) #log_transformed is only array \n",
    "    return Image.fromarray(np.array(log_transformed, int)) # converting to int and image\n",
    " \n",
    "\n",
    "\n",
    "logimg = logTransformImg(img) # \n",
    "\n",
    "print(logimg.mode)\n",
    "\n",
    "print(\"\\n\\n\" ,np.array(logimg) )\n",
    "print(\"\\n\\n\" , np.array(img))"
   ]
  },
  {
   "cell_type": "markdown",
   "metadata": {},
   "source": [
    "## As can be observed from the outputs gamma>1 , the intensity of pixels decreases i.e. the image becomes darker. \n",
    "## On the other hand, gamma<1 the intensity increases i.e. the image becomes lighter."
   ]
  },
  {
   "cell_type": "code",
   "execution_count": 45,
   "metadata": {
    "ExecuteTime": {
     "end_time": "2021-01-17T07:27:57.646852Z",
     "start_time": "2021-01-17T07:27:57.625710Z"
    }
   },
   "outputs": [
    {
     "name": "stdout",
     "output_type": "stream",
     "text": [
      "\n",
      "\n",
      " [[ 10  12  10  11  12]\n",
      " [ 11 200 201 200 202]\n",
      " [ 11 200  11  12  10]\n",
      " [ 10 201  10  11  11]\n",
      " [ 10 200  11  12  10]]\n",
      "\n",
      "\n",
      "gamma_transformed0.1 \n",
      "\n",
      " [[184 187 184 186 187]\n",
      " [186 248 249 248 249]\n",
      " [186 248 186 187 184]\n",
      " [184 249 184 186 186]\n",
      " [184 248 186 187 184]]\n",
      "\n",
      "\n",
      "gamma_transformed0.5 \n",
      "\n",
      " [[ 50  55  50  52  55]\n",
      " [ 52 225 226 225 226]\n",
      " [ 52 225  52  55  50]\n",
      " [ 50 226  50  52  52]\n",
      " [ 50 225  52  55  50]]\n",
      "\n",
      "\n",
      "gamma_transformed1.2 \n",
      "\n",
      " [[  5   6   5   5   6]\n",
      " [  5 190 191 190 192]\n",
      " [  5 190   5   6   5]\n",
      " [  5 191   5   5   5]\n",
      " [  5 190   5   6   5]]\n",
      "\n",
      "\n",
      "gamma_transformed2.2 \n",
      "\n",
      " [[  0   0   0   0   0]\n",
      " [  0 149 151 149 152]\n",
      " [  0 149   0   0   0]\n",
      " [  0 151   0   0   0]\n",
      " [  0 149   0   0   0]]\n"
     ]
    }
   ],
   "source": [
    "# apply power law gamma transformation\n",
    "print(\"\\n\\n\" , np.array(img))\n",
    "# Trying 4 gamma values. \n",
    "for gamma in [0.1, 0.5, 1.2, 2.2]: \n",
    "      \n",
    "    # Apply gamma correction. \n",
    "    #c = 255/(np.log(1 + np.max(img))) # assume c = 1\n",
    "    c = 1\n",
    "    gamma_corrected =  c*255*(np.array(img) / 255) ** gamma # adjustment for intensities\n",
    "\n",
    "    gamma_corrected = Image.fromarray(np.array(gamma_corrected, int))\n",
    "    \n",
    "    print('\\n\\ngamma_transformed'+str(gamma),\"\\n\\n\", np.array(gamma_corrected))\n",
    "    "
   ]
  },
  {
   "cell_type": "code",
   "execution_count": 46,
   "metadata": {
    "ExecuteTime": {
     "end_time": "2021-01-17T07:27:58.668291Z",
     "start_time": "2021-01-17T07:27:58.024846Z"
    }
   },
   "outputs": [
    {
     "ename": "SyntaxError",
     "evalue": "invalid syntax (<ipython-input-46-14fb2a651d4c>, line 4)",
     "output_type": "error",
     "traceback": [
      "\u001b[1;36m  File \u001b[1;32m\"<ipython-input-46-14fb2a651d4c>\"\u001b[1;36m, line \u001b[1;32m4\u001b[0m\n\u001b[1;33m    return gamma_corrected = Image.fromarray(np.array(gamma_corrected, int))\u001b[0m\n\u001b[1;37m                           ^\u001b[0m\n\u001b[1;31mSyntaxError\u001b[0m\u001b[1;31m:\u001b[0m invalid syntax\n"
     ]
    }
   ],
   "source": [
    "def gamma_corrected(image ,gamma ,c = 1):\n",
    "    \n",
    "    gamma_corrected =  c*255*(np.array(img) / 255) ** gamma # adjustment for intensities\n",
    "    return gamma_corrected = Image.fromarray(np.array(gamma_corrected, int))\n"
   ]
  },
  {
   "cell_type": "markdown",
   "metadata": {},
   "source": [
    "## Piecewise-Linear Transformation \n",
    "## Contrast =  (I_max - I_min)/(I_max + I_min)"
   ]
  },
  {
   "cell_type": "code",
   "execution_count": null,
   "metadata": {
    "ExecuteTime": {
     "end_time": "2021-01-17T07:27:58.670285Z",
     "start_time": "2021-01-17T07:27:58.530Z"
    }
   },
   "outputs": [],
   "source": [
    "\n",
    "print(\"\\n\\n\" , np.array(img))\n",
    "\n",
    "\n",
    "\n",
    "\n",
    "def pixelVal(pix, r1, s1, r2, s2): \n",
    "    if ( pix >= 0 and pix <= r1):    \n",
    "        return (s1 / r1)*pix \n",
    "    elif ( pix > r1 and pix <= r2):  \n",
    "        return ((s2 - s1)/(r2 - r1)) * (pix - r1) + s1 \n",
    "    else:                            \n",
    "        return ((255 - s2)/(255 - r2)) * (pix - r2) + s2 \n",
    "  \n",
    " \n",
    "  \n",
    "#Define parameters. \n",
    "r1 = 70\n",
    "s1 = 40\n",
    "r2 = 140\n",
    "s2 = 205\n",
    "\n",
    "# pixel in 0 to r1 will map to 0  to s1\n",
    "# pixel in r1 to r2 will map to s1  to s2\n",
    "# pixel in r2 to 255 will map to s2  to 255\n",
    "\n",
    "# Vectorize the function to apply it to each value in the Numpy array i.e to each pixel with same r1,s1,r2,s2 values each time. \n",
    "pixelVal_vec = np.vectorize(pixelVal) \n",
    "  \n",
    "# Apply contrast stretching. \n",
    "contrast_stretched = Image.fromarray(np.array(pixelVal_vec(img, r1, s1, r2, s2),int)) \n",
    "\n",
    "print(\"\\n\\n\" , np.array(contrast_stretched , int))"
   ]
  },
  {
   "cell_type": "code",
   "execution_count": 47,
   "metadata": {
    "ExecuteTime": {
     "end_time": "2021-01-17T07:27:58.887328Z",
     "start_time": "2021-01-17T07:27:58.838744Z"
    }
   },
   "outputs": [
    {
     "name": "stdout",
     "output_type": "stream",
     "text": [
      "\n",
      "\n",
      " [[ 10  12  10  11  12]\n",
      " [ 11 200 201 200 202]\n",
      " [ 11 200  11  12  10]\n",
      " [ 10 201  10  11  11]\n",
      " [ 10 200  11  12  10]]\n",
      "\n",
      "\n",
      " [[  0   0   0   0   0]\n",
      " [  0 200 201 200 202]\n",
      " [  0 200   0   0   0]\n",
      " [  0 201   0   0   0]\n",
      " [  0 200   0   0   0]]\n"
     ]
    }
   ],
   "source": [
    "## Intensity Slicing\n",
    "\n",
    "print(\"\\n\\n\" , np.array(img))\n",
    "\n",
    "\n",
    "def intensity_slice(pix, min_range ,max_range ,new): \n",
    "    if ( pix >= min_range and pix <= max_range):\n",
    "        return new\n",
    "    else:\n",
    "        return pix\n",
    "\n",
    "  \n",
    "#Define parameters. \n",
    "min_range =5\n",
    "max_range = 15\n",
    "new_intensity = 0\n",
    "\n",
    "# pixel in min to max will map to new \n",
    "\n",
    "\n",
    "# Vectorize the function to apply it to each value in the Numpy array i.e to each pixel with same r1,s1,r2,s2 values each time. \n",
    "intensity_slice_vec = np.vectorize(intensity_slice) \n",
    "  \n",
    "# Apply intensity slicing. \n",
    "\n",
    "intensity_sliced = Image.fromarray(np.array(intensity_slice_vec(img, min_range,max_range , new_intensity)))\n",
    "\n",
    "\n",
    "print(\"\\n\\n\" , np.array(intensity_sliced))"
   ]
  },
  {
   "cell_type": "code",
   "execution_count": 48,
   "metadata": {
    "ExecuteTime": {
     "end_time": "2021-01-17T07:27:59.079323Z",
     "start_time": "2021-01-17T07:27:59.059329Z"
    }
   },
   "outputs": [
    {
     "name": "stdout",
     "output_type": "stream",
     "text": [
      "\n",
      "\n",
      " [[ 10  12  10  11  12]\n",
      " [ 11 200 201 200 202]\n",
      " [ 11 200  11  12  10]\n",
      " [ 10 201  10  11  11]\n",
      " [ 10 200  11  12  10]]\n",
      "\n",
      "\n",
      " b'\\x89PNG\\r\\n\\x1a\\n\\x00\\x00\\x00\\rIHDR\\x00\\x00\\x00\\x05\\x00\\x00\\x00\\x05\\x08\\x00\\x00\\x00\\x00\\xa8\\x04y9\\x00\\x00\\x00$IDATx\\x9c\\x05\\xc1\\xb1\\x11\\x000\\x0c\\x021\\x9e\\xa3\\xcaX\\x9e\\xdb\\xb3\\x99H<\\x1f\\x84\\xa5\\x8e4\\\\J\\x85U\\xe8\\x07k\\xac\\x08\\x1cj8A$\\x00\\x00\\x00\\x00IEND\\xaeB`\\x82'\n"
     ]
    }
   ],
   "source": [
    "## Bit plane slicing\n",
    "\n",
    "print(\"\\n\\n\" , np.array(img))\n",
    "\n",
    "#bitsimage = np.array((np.array(img).tobytes()))\n",
    "\n",
    "import io\n",
    "\n",
    "def image_to_byte_array(image:Image):\n",
    "  imgByteArr = io.BytesIO()\n",
    "  image.save(imgByteArr , \"PNG\")\n",
    "  imgByteArr = imgByteArr.getvalue()\n",
    "  return imgByteArr\n",
    "\n",
    "bitsimage = np.array(image_to_byte_array(img))\n",
    "\n",
    "print(\"\\n\\n\" ,np.array(bitsimage))\n",
    "\n",
    "\n",
    "\n"
   ]
  },
  {
   "cell_type": "code",
   "execution_count": null,
   "metadata": {},
   "outputs": [],
   "source": []
  },
  {
   "cell_type": "markdown",
   "metadata": {},
   "source": [
    "## Histogram Processing"
   ]
  },
  {
   "cell_type": "code",
   "execution_count": 49,
   "metadata": {
    "ExecuteTime": {
     "end_time": "2021-01-17T07:27:59.919986Z",
     "start_time": "2021-01-17T07:27:59.910992Z"
    }
   },
   "outputs": [
    {
     "name": "stdout",
     "output_type": "stream",
     "text": [
      "[[ 10  20  25  15  15  14  12]\n",
      " [ 12  14 150 175 170  13  20]\n",
      " [ 10  12 172 189 175  20  14]\n",
      " [ 14 180 185 172 180  14  15]\n",
      " [ 14 180 175 173 180 185  10]\n",
      " [ 12   9 181 180 154 150  10]\n",
      " [ 13  10  11  12  14  12  11]]\n",
      "\n",
      "\n",
      " [[ 10  20  25  15  15  14  12]\n",
      " [ 12  14 150 175 170  13  20]\n",
      " [ 10  12 172 189 175  20  14]\n",
      " [ 14 180 185 172 180  14  15]\n",
      " [ 14 180 175 173 180 185  10]\n",
      " [ 12   9 181 180 154 150  10]\n",
      " [ 13  10  11  12  14  12  11]]\n"
     ]
    }
   ],
   "source": [
    "img2arr = np.array((\n",
    "        (10, 20, 25, 15, 15 ,14 ,12),\n",
    "        (12, 14, 150, 175, 170 , 13 , 20),\n",
    "        (10, 12, 172, 189, 175 , 20 , 14),\n",
    "        (14, 180, 185, 172, 180 , 14 ,15),\n",
    "        (14, 180, 175, 173, 180 , 185 ,10),\n",
    "        (12, 9, 181, 180, 154 , 150 , 10),\n",
    "        (13, 10, 11, 12, 14 , 12 ,11),\n",
    "        \n",
    "      ))\n",
    "\n",
    "print(img2arr)\n",
    "\n",
    "img2=Image.fromarray(img2arr)\n",
    "#img=ImageOps.grayscale(img)\n",
    "img2 = img2.convert('L')\n",
    "#img.show()\n",
    "print(\"\\n\\n\" , np.asarray(img2))\n"
   ]
  },
  {
   "cell_type": "code",
   "execution_count": 50,
   "metadata": {
    "ExecuteTime": {
     "end_time": "2021-01-17T07:28:04.602990Z",
     "start_time": "2021-01-17T07:28:00.163983Z"
    }
   },
   "outputs": [
    {
     "name": "stdout",
     "output_type": "stream",
     "text": [
      "\n",
      "\n",
      " [[ 10  20  25  15  15  14  12]\n",
      " [ 12  14 150 175 170  13  20]\n",
      " [ 10  12 172 189 175  20  14]\n",
      " [ 14 180 185 172 180  14  15]\n",
      " [ 14 180 175 173 180 185  10]\n",
      " [ 12   9 181 180 154 150  10]\n",
      " [ 13  10  11  12  14  12  11]]\n"
     ]
    },
    {
     "data": {
      "image/png": "[encoded data removed]",
      "text/plain": [
       "<Figure size 720x504 with 1 Axes>"
      ]
     },
     "metadata": {
      "needs_background": "light"
     },
     "output_type": "display_data"
    }
   ],
   "source": [
    "print(\"\\n\\n\" , np.array(img2))\n",
    "\n",
    "fig = plt.figure(figsize =(10, 7)) \n",
    "\n",
    "plt.hist(np.array(img2),bins = np.arange(256))  \n",
    "  \n",
    "plt.title(\"Histogram\")  \n",
    "  \n",
    "# show plot \n",
    "plt.show() "
   ]
  },
  {
   "cell_type": "code",
   "execution_count": 51,
   "metadata": {
    "ExecuteTime": {
     "end_time": "2021-01-17T07:28:05.179384Z",
     "start_time": "2021-01-17T07:28:04.602990Z"
    }
   },
   "outputs": [
    {
     "data": {
      "image/png": "[encoded data removed]",
      "text/plain": [
       "<Figure size 720x504 with 1 Axes>"
      ]
     },
     "metadata": {
      "needs_background": "light"
     },
     "output_type": "display_data"
    }
   ],
   "source": [
    "img3 = Image.open(\"Images/sibs8.jpg\").convert('L')\n",
    "\n",
    "\n",
    "\n",
    "#img3.show()\n",
    "\n",
    "fig = plt.figure(figsize =(10, 7)) \n",
    "\n",
    "plt.hist(np.array(img3).flatten(),bins = range(256) , color = \"black\")  \n",
    "  \n",
    "plt.title(\"Histogram\")  \n",
    "  \n",
    "# show plot \n",
    "plt.show() \n",
    "\n",
    "\n"
   ]
  },
  {
   "cell_type": "code",
   "execution_count": 52,
   "metadata": {
    "ExecuteTime": {
     "end_time": "2021-01-17T07:28:07.330116Z",
     "start_time": "2021-01-17T07:28:05.181379Z"
    }
   },
   "outputs": [
    {
     "data": {
      "image/png": "[encoded data removed]",
      "text/plain": [
       "<Figure size 720x504 with 1 Axes>"
      ]
     },
     "metadata": {
      "needs_background": "light"
     },
     "output_type": "display_data"
    },
    {
     "data": {
      "image/png": "[encoded data removed]",
      "text/plain": [
       "<Figure size 720x504 with 1 Axes>"
      ]
     },
     "metadata": {
      "needs_background": "light"
     },
     "output_type": "display_data"
    },
    {
     "data": {
      "image/png": "[encoded data removed]",
      "text/plain": [
       "<Figure size 720x504 with 1 Axes>"
      ]
     },
     "metadata": {
      "needs_background": "light"
     },
     "output_type": "display_data"
    }
   ],
   "source": [
    "\n",
    "\n",
    "\n",
    "img4 = Image.open(\"Images/sibs8.jpg\")\n",
    "r, g, b = img4.split() \n",
    "\n",
    "#print(np.array(r))\n",
    "\n",
    "fig = plt.figure(figsize =(10, 7)) \n",
    "plt.hist(np.array(r).flatten() , color = \"red\",bins = range(256) )\n",
    "plt.show()\n",
    "\n",
    "fig = plt.figure(figsize =(10, 7)) \n",
    "plt.hist(np.array(g).flatten() ,color = \"green\" ,bins = range(256)  )  \n",
    "plt.show()\n",
    "\n",
    "fig = plt.figure(figsize =(10, 7)) \n",
    "plt.hist(np.array(b).flatten() ,color = \"blue\" ,bins = range(256) )  \n",
    "plt.show()\n",
    " \n",
    "  \n",
    "\n"
   ]
  },
  {
   "cell_type": "code",
   "execution_count": 53,
   "metadata": {
    "ExecuteTime": {
     "end_time": "2021-01-17T07:28:07.339111Z",
     "start_time": "2021-01-17T07:28:07.332117Z"
    }
   },
   "outputs": [
    {
     "name": "stdout",
     "output_type": "stream",
     "text": [
      "[[ 10  20  25  15  15  14  12]\n",
      " [ 12  14 150 175 170  13  20]\n",
      " [ 10  12 172 189 175  20  14]\n",
      " [ 14 180 185 172 180  14  15]\n",
      " [ 14 180 175 173 180 185  10]\n",
      " [ 12   9 181 180 154 150  10]\n",
      " [ 13  10  11  12  14  12  11]]\n",
      "\n",
      "\n",
      " [[ 10  20  25  15  15  14  12]\n",
      " [ 12  14 150 175 170  13  20]\n",
      " [ 10  12 172 189 175  20  14]\n",
      " [ 14 180 185 172 180  14  15]\n",
      " [ 14 180 175 173 180 185  10]\n",
      " [ 12   9 181 180 154 150  10]\n",
      " [ 13  10  11  12  14  12  11]]\n"
     ]
    }
   ],
   "source": [
    "img2arr = np.array((\n",
    "        (10, 20, 25, 15, 15 ,14 ,12),\n",
    "        (12, 14, 150, 175, 170 , 13 , 20),\n",
    "        (10, 12, 172, 189, 175 , 20 , 14),\n",
    "        (14, 180, 185, 172, 180 , 14 ,15),\n",
    "        (14, 180, 175, 173, 180 , 185 ,10),\n",
    "        (12, 9, 181, 180, 154 , 150 , 10),\n",
    "        (13, 10, 11, 12, 14 , 12 ,11),\n",
    "        \n",
    "      ))\n",
    "\n",
    "print(img2arr)\n",
    "\n",
    "img2=Image.fromarray(img2arr)\n",
    "#img=ImageOps.grayscale(img)\n",
    "img2 = img2.convert('L')\n",
    "#img.show()\n",
    "print(\"\\n\\n\" , np.asarray(img2))\n"
   ]
  },
  {
   "cell_type": "markdown",
   "metadata": {},
   "source": [
    "## Histogram Equalization"
   ]
  },
  {
   "cell_type": "code",
   "execution_count": 54,
   "metadata": {
    "ExecuteTime": {
     "end_time": "2021-01-17T07:28:08.199117Z",
     "start_time": "2021-01-17T07:28:07.341111Z"
    }
   },
   "outputs": [
    {
     "data": {
      "image/png": "[encoded data removed]",
      "text/plain": [
       "<Figure size 432x288 with 1 Axes>"
      ]
     },
     "metadata": {
      "needs_background": "light"
     },
     "output_type": "display_data"
    },
    {
     "name": "stdout",
     "output_type": "stream",
     "text": [
      "\n",
      "\n",
      " [[ 10  20  25  15  15  14  12]\n",
      " [ 12  14 150 175 170  13  20]\n",
      " [ 10  12 172 189 175  20  14]\n",
      " [ 14 180 185 172 180  14  15]\n",
      " [ 14 180 175 173 180 185  10]\n",
      " [ 12   9 181 180 154 150  10]\n",
      " [ 13  10  11  12  14  12  11]]\n"
     ]
    }
   ],
   "source": [
    "hist,bins = np.histogram(np.array(img2).flatten(),bins = 256,range = [0,256]) #returns array of intensities and no of bins\n",
    "\n",
    "cdf = hist.cumsum() # cumulative sum\n",
    "cdf_normalized = cdf * hist.max()/ cdf.max()\n",
    "\n",
    "plt.plot(cdf_normalized, color = 'b')\n",
    "plt.hist(np.array(img2).flatten(),256,[0,256], color = 'r')\n",
    "plt.xlim([0,256])\n",
    "plt.legend(('cdf','histogram'), loc = 'upper left')\n",
    "plt.show()\n",
    "print(\"\\n\\n\" , np.array(img2))"
   ]
  },
  {
   "cell_type": "code",
   "execution_count": 55,
   "metadata": {
    "ExecuteTime": {
     "end_time": "2021-01-17T07:28:08.205111Z",
     "start_time": "2021-01-17T07:28:08.201118Z"
    }
   },
   "outputs": [],
   "source": [
    "img2.save(\"Images/img2.jpg\")"
   ]
  },
  {
   "cell_type": "markdown",
   "metadata": {},
   "source": [
    "## opencv code for Image Equalization"
   ]
  },
  {
   "cell_type": "code",
   "execution_count": 56,
   "metadata": {
    "ExecuteTime": {
     "end_time": "2021-01-17T07:28:09.932451Z",
     "start_time": "2021-01-17T07:28:08.207112Z"
    }
   },
   "outputs": [
    {
     "name": "stdout",
     "output_type": "stream",
     "text": [
      "[[  8  23  14  23  12  14  20]\n",
      " [  7  25 166 155 181  14   6]\n",
      " [ 17   8 171 190 168  23   5]\n",
      " [  4 169 188 165 197  19  21]\n",
      " [ 39 173 167 180 175 178   8]\n",
      " [  4   3 187 181 146 155  18]\n",
      " [ 15  24   0  24  20  14   0]]\n",
      "\n",
      "\n",
      " [[ 49 130  76 130  54  76 109]\n",
      " [ 33 146 179 168 233  76  27]\n",
      " [ 87  49 201 250 190 130  22]\n",
      " [ 16 195 244 174 255  98 114]\n",
      " [152 206 184 222 212 217  49]\n",
      " [ 16   5 239 233 157 168  92]\n",
      " [ 81 141   0 141 109  76   0]]\n"
     ]
    }
   ],
   "source": [
    "\n",
    "\n",
    "import cv2\n",
    "\n",
    "img2 = cv2.imread('Images/img2.jpg',0)\n",
    "img20 = img2.copy()\n",
    "equ = cv2.equalizeHist(img20)\n",
    "#res = np.hstack((img2,equ)) #stacking images side-by-side\n",
    "cv2.imwrite('Images/img21.png',equ)\n",
    "\n",
    "img3 = Image.open(\"Images/img21.png\")\n",
    "print(np.array(img2))\n",
    "print(\"\\n\\n\",np.array(img3))\n"
   ]
  },
  {
   "cell_type": "code",
   "execution_count": 57,
   "metadata": {
    "ExecuteTime": {
     "end_time": "2021-01-17T07:28:10.509440Z",
     "start_time": "2021-01-17T07:28:09.942467Z"
    }
   },
   "outputs": [
    {
     "data": {
      "image/png": "[encoded data removed]",
      "text/plain": [
       "<Figure size 432x288 with 1 Axes>"
      ]
     },
     "metadata": {
      "needs_background": "light"
     },
     "output_type": "display_data"
    }
   ],
   "source": [
    "hist,bins = np.histogram(np.array(img3).flatten(),bins = 256,range = [0,256]) #returns array of intensities and no of bins\n",
    "\n",
    "cdf = hist.cumsum() # cumulative sum\n",
    "cdf_normalized = cdf * hist.max()/ cdf.max()\n",
    "\n",
    "plt.plot(cdf_normalized, color = 'b')\n",
    "plt.hist(np.array(img3).flatten(),256,[0,256], color = 'r')\n",
    "plt.xlim([0,256])\n",
    "plt.legend(('cdf','histogram'), loc = 'upper left')\n",
    "plt.show()"
   ]
  },
  {
   "cell_type": "markdown",
   "metadata": {},
   "source": [
    "##  In this, image is divided into small blocks called “tiles” (tileSize is 8x8 by default in OpenCV). \n",
    "## Then each of these blocks are histogram equalized as usual. "
   ]
  },
  {
   "cell_type": "code",
   "execution_count": 58,
   "metadata": {
    "ExecuteTime": {
     "end_time": "2021-01-17T07:28:11.874440Z",
     "start_time": "2021-01-17T07:28:10.511443Z"
    }
   },
   "outputs": [
    {
     "data": {
      "text/plain": [
       "True"
      ]
     },
     "execution_count": 58,
     "metadata": {},
     "output_type": "execute_result"
    }
   ],
   "source": [
    "# CLAHE (Contrast Limited Adaptive Histogram Equalization)\n",
    "\n",
    "img4 = cv2.imread('Images/img2.jpg',0)\n",
    "\n",
    "# create a CLAHE object (Arguments are optional).\n",
    "clahe = cv2.createCLAHE(clipLimit=2.0, tileGridSize=(8,8))\n",
    "cl1 = clahe.apply(img4)\n",
    "\n",
    "cv2.imwrite('Images/clahe.jpg',cl1)"
   ]
  },
  {
   "cell_type": "code",
   "execution_count": 59,
   "metadata": {
    "ExecuteTime": {
     "end_time": "2021-01-17T07:28:12.541444Z",
     "start_time": "2021-01-17T07:28:11.876445Z"
    }
   },
   "outputs": [
    {
     "name": "stdout",
     "output_type": "stream",
     "text": [
      "[[  8  23  14  23  12  14  20]\n",
      " [  7  25 166 155 181  14   6]\n",
      " [ 17   8 171 190 168  23   5]\n",
      " [  4 169 188 165 197  19  21]\n",
      " [ 39 173 167 180 175 178   8]\n",
      " [  4   3 187 181 146 155  18]\n",
      " [ 15  24   0  24  20  14   0]]\n",
      "\n",
      "\n",
      " [[254 255 125 255 130 254 254]\n",
      " [127 250 255 189 253 193  64]\n",
      " [255 127 255 255 126 128  62]\n",
      " [127 252 255  67 254  65 191]\n",
      " [255 255  65 186 131 190  64]\n",
      " [126  64 253 196  62 130 127]\n",
      " [255 255  63 126  64  63  63]]\n"
     ]
    },
    {
     "data": {
      "image/png": "[encoded data removed]",
      "text/plain": [
       "<Figure size 432x288 with 1 Axes>"
      ]
     },
     "metadata": {
      "needs_background": "light"
     },
     "output_type": "display_data"
    }
   ],
   "source": [
    "img4 = Image.open(\"Images/clahe.jpg\")\n",
    "print(np.array(img2))\n",
    "print(\"\\n\\n\",np.array(img4))\n",
    "\n",
    "hist,bins = np.histogram(np.array(img4).flatten(),bins = 256,range = [0,256]) #returns array of intensities and no of bins\n",
    "\n",
    "cdf = hist.cumsum() # cumulative sum\n",
    "cdf_normalized = cdf * hist.max()/ cdf.max()\n",
    "\n",
    "plt.plot(cdf_normalized, color = 'b')\n",
    "plt.hist(np.array(img4).flatten(),256,[0,256], color = 'r')\n",
    "plt.xlim([0,256])\n",
    "plt.legend(('cdf','histogram'), loc = 'upper left')\n",
    "plt.show()"
   ]
  },
  {
   "cell_type": "code",
   "execution_count": 60,
   "metadata": {
    "ExecuteTime": {
     "end_time": "2021-01-17T07:28:12.545440Z",
     "start_time": "2021-01-17T07:28:12.543441Z"
    }
   },
   "outputs": [],
   "source": [
    "\n",
    "# we are taking only one feature into our consideration, ie grayscale intensity value of the pixel.\n",
    "# But in two-dimensional histograms, you consider two features. \n",
    "#Normally it is used for finding color histograms where two features are Hue & Saturation values of every pixel.\n",
    "\n",
    "#channels = [0,1] because we need to process both H and S plane.\n",
    "#bins = [180,256] 180 for H plane and 256 for S plane.\n",
    "#range = [0,180,0,256] Hue value lies between 0 and 180 & Saturation lies between 0 and 256."
   ]
  },
  {
   "cell_type": "code",
   "execution_count": 61,
   "metadata": {
    "ExecuteTime": {
     "end_time": "2021-01-17T07:28:13.732504Z",
     "start_time": "2021-01-17T07:28:12.547441Z"
    }
   },
   "outputs": [
    {
     "data": {
      "image/png": "[encoded data removed]",
      "text/plain": [
       "<Figure size 432x288 with 1 Axes>"
      ]
     },
     "metadata": {
      "needs_background": "light"
     },
     "output_type": "display_data"
    }
   ],
   "source": [
    "img5 = cv2.imread('Images/sibs8.jpg')\n",
    "hsv = cv2.cvtColor(img5,cv2.COLOR_BGR2HSV)\n",
    "hist = cv2.calcHist( [hsv], [0, 1], None, [180, 256], [0, 180, 0, 256] )\n",
    "\n",
    "plt.imshow(hist,interpolation = 'nearest')\n",
    "plt.show()"
   ]
  },
  {
   "cell_type": "code",
   "execution_count": null,
   "metadata": {},
   "outputs": [],
   "source": []
  },
  {
   "cell_type": "markdown",
   "metadata": {},
   "source": [
    "## Correlation and Convolution"
   ]
  },
  {
   "cell_type": "markdown",
   "metadata": {},
   "source": []
  },
  {
   "cell_type": "code",
   "execution_count": 62,
   "metadata": {
    "ExecuteTime": {
     "end_time": "2021-01-17T07:28:13.809504Z",
     "start_time": "2021-01-17T07:28:13.733499Z"
    }
   },
   "outputs": [
    {
     "name": "stdout",
     "output_type": "stream",
     "text": [
      "[[ 10  20  25  15  15  14  12]\n",
      " [ 12  14 150 175 170  13  20]\n",
      " [ 10  12 172 189 175  20  14]\n",
      " [ 14 180 185 172 180  14  15]\n",
      " [ 14 180 175 173 180 185  10]\n",
      " [ 12   9 181 180 154 150  10]\n",
      " [ 13  10  11  12  14  12  11]]\n",
      "\n",
      "\n",
      " [[ 10  20  25  15  15  14  12]\n",
      " [ 12  14 150 175 170  13  20]\n",
      " [ 10  12 172 189 175  20  14]\n",
      " [ 14 180 185 172 180  14  15]\n",
      " [ 14 180 175 173 180 185  10]\n",
      " [ 12   9 181 180 154 150  10]\n",
      " [ 13  10  11  12  14  12  11]]\n"
     ]
    },
    {
     "data": {
      "image/png": "[encoded data removed]",
      "text/plain": [
       "<Figure size 1080x1080 with 1 Axes>"
      ]
     },
     "metadata": {
      "needs_background": "light"
     },
     "output_type": "display_data"
    }
   ],
   "source": [
    "img2arr = np.array((\n",
    "        (10, 20, 25, 15, 15 ,14 ,12),\n",
    "        (12, 14, 150, 175, 170 , 13 , 20),\n",
    "        (10, 12, 172, 189, 175 , 20 , 14),\n",
    "        (14, 180, 185, 172, 180 , 14 ,15),\n",
    "        (14, 180, 175, 173, 180 , 185 ,10),\n",
    "        (12, 9, 181, 180, 154 , 150 , 10),\n",
    "        (13, 10, 11, 12, 14 , 12 ,11),\n",
    "        \n",
    "      ))\n",
    "\n",
    "print(img2arr)\n",
    "\n",
    "img2=Image.fromarray(img2arr)\n",
    "#img=ImageOps.grayscale(img)\n",
    "img2 = img2.convert('L')\n",
    "#img.show()\n",
    "print(\"\\n\\n\" , np.asarray(img2))\n",
    "\n",
    "fig = plt.figure(figsize=(15,15))\n",
    "a = fig.add_subplot(1, 3, 1) # 1x3 frame 1st box\n",
    "a.set_title('Input')\n",
    "plt.axis(\"off\")\n",
    "imgplot1 = plt.imshow(img2 , cmap='gray', vmin=0, vmax=255)"
   ]
  },
  {
   "cell_type": "markdown",
   "metadata": {},
   "source": [
    "## Add and Remove Padding to Image"
   ]
  },
  {
   "cell_type": "code",
   "execution_count": 63,
   "metadata": {
    "ExecuteTime": {
     "end_time": "2021-01-17T07:28:13.818503Z",
     "start_time": "2021-01-17T07:28:13.811501Z"
    }
   },
   "outputs": [],
   "source": [
    "#padding\n",
    "\n",
    "def add_margin(pil_img, top, right, bottom, left, color): \n",
    "    \n",
    "    width, height = pil_img.size\n",
    "    new_width = width + right + left\n",
    "    new_height = height + top + bottom\n",
    "    result = Image.new(pil_img.mode, (new_width, new_height), color)\n",
    "    result.paste(pil_img, (left, top))\n",
    "    return result\n",
    "\n",
    "#anti_padding\n",
    "\n",
    "def del_margin(pil_img, top, right, bottom, left,color):\n",
    "    \n",
    "    width, height = pil_img.size\n",
    "    new_width = width - right - left\n",
    "    new_height = height - top - bottom\n",
    "    result = Image.new(pil_img.mode, (new_width, new_height),color)\n",
    "    result.paste(pil_img, (-top, -left))\n",
    "    return result\n",
    "\n"
   ]
  },
  {
   "cell_type": "code",
   "execution_count": 64,
   "metadata": {
    "ExecuteTime": {
     "end_time": "2021-01-17T07:28:13.850501Z",
     "start_time": "2021-01-17T07:28:13.820498Z"
    }
   },
   "outputs": [
    {
     "name": "stdout",
     "output_type": "stream",
     "text": [
      "\n",
      "\n",
      " [[  0   0   0   0   0   0   0   0   0]\n",
      " [  0  10  20  25  15  15  14  12   0]\n",
      " [  0  12  14 150 175 170  13  20   0]\n",
      " [  0  10  12 172 189 175  20  14   0]\n",
      " [  0  14 180 185 172 180  14  15   0]\n",
      " [  0  14 180 175 173 180 185  10   0]\n",
      " [  0  12   9 181 180 154 150  10   0]\n",
      " [  0  13  10  11  12  14  12  11   0]\n",
      " [  0   0   0   0   0   0   0   0   0]]\n",
      "\n",
      "\n",
      " [[ 10  20  25  15  15  14  12]\n",
      " [ 12  14 150 175 170  13  20]\n",
      " [ 10  12 172 189 175  20  14]\n",
      " [ 14 180 185 172 180  14  15]\n",
      " [ 14 180 175 173 180 185  10]\n",
      " [ 12   9 181 180 154 150  10]\n",
      " [ 13  10  11  12  14  12  11]]\n"
     ]
    }
   ],
   "source": [
    "img_new = add_margin(img2, 1, 1, 1, 1, 0)\n",
    "print(\"\\n\\n\" , np.asarray(img_new))\n",
    "\n",
    "img_new2 = del_margin(img_new, 1, 1, 1, 1 ,0)\n",
    "print(\"\\n\\n\" , np.asarray(img_new2))"
   ]
  },
  {
   "cell_type": "code",
   "execution_count": 66,
   "metadata": {
    "ExecuteTime": {
     "end_time": "2021-01-17T07:29:15.251135Z",
     "start_time": "2021-01-17T07:29:15.216160Z"
    }
   },
   "outputs": [
    {
     "name": "stdout",
     "output_type": "stream",
     "text": [
      "Original Image\n",
      "\n",
      "\n",
      " [[ 10  20  25  15  15  14  12]\n",
      " [ 12  14 150 175 170  13  20]\n",
      " [ 10  12 172 189 175  20  14]\n",
      " [ 14 180 185 172 180  14  15]\n",
      " [ 14 180 175 173 180 185  10]\n",
      " [ 12   9 181 180 154 150  10]\n",
      " [ 13  10  11  12  14  12  11]]\n",
      "\n",
      "\n",
      "Image Laplacian Filter Without Padding\n",
      "\n",
      "\n",
      " [[ 10  20  25  15  15  14  12]\n",
      " [ 12   0 255 255 255   0  20]\n",
      " [ 10   0 255 133 255   0  14]\n",
      " [ 14 255 227   0 255   0  15]\n",
      " [ 14 255 140   0 232 255  10]\n",
      " [ 12   0 255 255 255 255  10]\n",
      " [ 13  10  11  12  14  12  11]]\n",
      "\n",
      "\n",
      "Image applying Padding\n",
      "\n",
      "\n",
      " [[  0   0   0   0   0   0   0   0   0   0   0]\n",
      " [  0   0   0   0   0   0   0   0   0   0   0]\n",
      " [  0   0  10  20  25  15  15  14  12   0   0]\n",
      " [  0   0  12  14 150 175 170  13  20   0   0]\n",
      " [  0   0  10  12 172 189 175  20  14   0   0]\n",
      " [  0   0  14 180 185 172 180  14  15   0   0]\n",
      " [  0   0  14 180 175 173 180 185  10   0   0]\n",
      " [  0   0  12   9 181 180 154 150  10   0   0]\n",
      " [  0   0  13  10  11  12  14  12  11   0   0]\n",
      " [  0   0   0   0   0   0   0   0   0   0   0]\n",
      " [  0   0   0   0   0   0   0   0   0   0   0]]\n",
      "\n",
      "\n",
      "Image Laplacian Filter With Padding\n",
      "\n",
      "\n",
      " [[  0   0   0   0   0   0   0   0   0   0   0]\n",
      " [  0   0   0   0   0   0   0   0   0   0   0]\n",
      " [  0   0  34   0   0   0   0   0  49   0   0]\n",
      " [  0   0  30   0 255 255 255   0  87   0   0]\n",
      " [  0   0   0   0 255 133 255   0  30   0   0]\n",
      " [  0   0   0 255 227   0 255   0   0   0   0]\n",
      " [  0   0   0 255 140   0 232 255   0   0   0]\n",
      " [  0   0   0   0 255 255 255 255   0   0   0]\n",
      " [  0   0  73   0   0   0   0   0   0   0   0]\n",
      " [  0   0   0   0   0   0   0   0   0   0   0]\n",
      " [  0   0   0   0   0   0   0   0   0   0   0]]\n",
      "\n",
      "\n",
      "Image Laplacian Filter remove Padding\n",
      "\n",
      "\n",
      " [[ 34   0   0   0   0   0  49]\n",
      " [ 30   0 255 255 255   0  87]\n",
      " [  0   0 255 133 255   0  30]\n",
      " [  0 255 227   0 255   0   0]\n",
      " [  0 255 140   0 232 255   0]\n",
      " [  0   0 255 255 255 255   0]\n",
      " [ 73   0   0   0   0   0   0]]\n",
      "\n",
      "\n",
      "Image Laplacian kernel Without Padding\n",
      "\n",
      "\n",
      " [[ 10  20  25  15  15  14  12]\n",
      " [ 12   0 255 255 255   0  20]\n",
      " [ 10   0 255 133 255   0  14]\n",
      " [ 14 255 227   0 255   0  15]\n",
      " [ 14 255 140   0 232 255  10]\n",
      " [ 12   0 255 255 255 255  10]\n",
      " [ 13  10  11  12  14  12  11]]\n"
     ]
    }
   ],
   "source": [
    "# Detecting Edges on the Image using the argument ImageFilter.FIND_EDGES \n",
    "\n",
    "\n",
    "\n",
    "\n",
    "print(\"Original Image\")\n",
    "print(\"\\n\\n\" , np.asarray(img2))\n",
    "\n",
    "print(\"\\n\\nImage Laplacian Filter Without Padding\")\n",
    "image = img2.filter(ImageFilter.FIND_EDGES) \n",
    "print(\"\\n\\n\" , np.asarray(image))\n",
    "\n",
    "print(\"\\n\\nImage applying Padding\")\n",
    "image = add_margin(img2, 2, 2, 2, 2, 0)\n",
    "print(\"\\n\\n\" , np.asarray(image))\n",
    "\n",
    "print(\"\\n\\nImage Laplacian Filter With Padding\")\n",
    "image = image.filter(ImageFilter.Kernel((3, 3), laplacian_edge.flatten(), 1, 0))  \n",
    "print(\"\\n\\n\" , np.asarray(image))\n",
    "\n",
    "print(\"\\n\\nImage Laplacian Filter remove Padding\")\n",
    "image = del_margin(image, 2, 2, 2, 2 ,0)\n",
    "print(\"\\n\\n\" , np.asarray(image))\n",
    "\n",
    "laplacian_edge = np.array((\n",
    "            (-1,-1,-1),\n",
    "            (-1,8,-1),\n",
    "            (-1,-1,-1),\n",
    "            ))\n",
    "\n",
    "# Calculating Edges using the passed laplican Kernel \n",
    "print(\"\\n\\nImage Laplacian kernel Without Padding\")\n",
    "image = img2.filter(ImageFilter.Kernel((3, 3), laplacian_edge.flatten(), 1, 0)) \n",
    "print(\"\\n\\n\" , np.asarray(image))\n",
    "\n",
    "\n"
   ]
  },
  {
   "cell_type": "markdown",
   "metadata": {},
   "source": [
    "\n",
    "## Unsharp Masking and Highboost Filtering\n"
   ]
  },
  {
   "cell_type": "code",
   "execution_count": 67,
   "metadata": {
    "ExecuteTime": {
     "end_time": "2021-01-17T07:29:20.482653Z",
     "start_time": "2021-01-17T07:29:20.467025Z"
    }
   },
   "outputs": [],
   "source": [
    "## A process that has been used for many years by the printing and publishing industry \n",
    "## to sharpen images consists of subtracting an unsharp (smoothed) version of an image from the original image.\n",
    "## This process, called unsharp masking, consists of the following steps:\n",
    "\n",
    "## 1. Blur the original image.\n",
    "## 2. Subtract the blurred image from the original (the resulting difference is called the mask.)\n",
    "## 3. Add the mask to the original."
   ]
  },
  {
   "cell_type": "code",
   "execution_count": 68,
   "metadata": {
    "ExecuteTime": {
     "end_time": "2021-01-17T07:29:24.102406Z",
     "start_time": "2021-01-17T07:29:20.893247Z"
    }
   },
   "outputs": [
    {
     "name": "stdout",
     "output_type": "stream",
     "text": [
      "[[250 250 250 ... 241 240 239]\n",
      " [251 251 251 ... 240 237 232]\n",
      " [253 253 253 ... 241 236 231]\n",
      " ...\n",
      " [ 66  75  73 ...  46  44  45]\n",
      " [ 62  67  64 ...  42  43  46]\n",
      " [ 57  60  57 ...  39  42  47]]\n"
     ]
    }
   ],
   "source": [
    "img = Image.open(\"Images/aero3.jpg\").convert('L')\n",
    "img.show()\n",
    "\n",
    "# blurring original image\n",
    "\n",
    "img_blur = img.filter((ImageFilter.GaussianBlur(2)))\n",
    "#img_blur.show()\n",
    "\n",
    "# subtracting blurred image from original\n",
    "\n",
    "img_sub = Image.fromarray(np.array(img) - np.array(img_blur))\n",
    "#img_sub.show()\n",
    "\n",
    "## or we can apply negative laplacian\n",
    "#image_sub2 = img_blur.filter(ImageFilter.Kernel((3, 3), laplacian_sharp2.flatten(), 1, 0)) \n",
    "#image_sub2.show()\n",
    "\n",
    "# add mask to original image\n",
    "final = Image.fromarray(np.array(img) + np.array(img_sub))\n",
    "final.show()\n",
    "\n",
    "print(np.array(final))"
   ]
  },
  {
   "cell_type": "code",
   "execution_count": 69,
   "metadata": {
    "ExecuteTime": {
     "end_time": "2021-01-17T07:29:24.617400Z",
     "start_time": "2021-01-17T07:29:24.108415Z"
    }
   },
   "outputs": [
    {
     "name": "stdout",
     "output_type": "stream",
     "text": [
      "[[249 249 249 ... 241 240 239]\n",
      " [251 251 251 ... 239 237 232]\n",
      " [252 252 252 ... 239 236 231]\n",
      " ...\n",
      " [ 63  70  70 ...  47  46  46]\n",
      " [ 61  65  63 ...  44  45  46]\n",
      " [ 57  59  57 ...  41  43  47]]\n"
     ]
    },
    {
     "data": {
      "image/png": "[encoded data removed]",
      "text/plain": [
       "<Figure size 720x720 with 2 Axes>"
      ]
     },
     "metadata": {
      "needs_background": "light"
     },
     "output_type": "display_data"
    }
   ],
   "source": [
    "# Load the image\n",
    "image = cv2.imread(\"Images/aero3.jpg\" ,0)\n",
    "# Blur the image\n",
    "gauss = cv2.GaussianBlur(image, (3,3), 0)\n",
    "# Apply Unsharp masking\n",
    "unsharp_image = cv2.addWeighted(image, 2, gauss, -1, 0)\n",
    "\n",
    "fig = plt.figure(figsize=(10,10))\n",
    "a = fig.add_subplot(1,2,1)\n",
    "a.set_title('Before')\n",
    "plt.axis(\"off\")\n",
    "imgplot1 = plt.imshow(image ,cmap='gray', vmin=0, vmax=255)\n",
    "\n",
    "a = fig.add_subplot(1,2,2)\n",
    "a.set_title('After')\n",
    "plt.axis(\"off\")\n",
    "imgplot1 = plt.imshow(unsharp_image ,cmap='gray', vmin=0, vmax=255)\n",
    "\n",
    "print(np.array(unsharp_image))"
   ]
  },
  {
   "cell_type": "code",
   "execution_count": null,
   "metadata": {},
   "outputs": [],
   "source": []
  },
  {
   "cell_type": "code",
   "execution_count": 70,
   "metadata": {
    "ExecuteTime": {
     "end_time": "2021-01-17T07:29:27.194261Z",
     "start_time": "2021-01-17T07:29:25.515556Z"
    }
   },
   "outputs": [],
   "source": [
    "## Edge detection using sobel\n",
    "\n",
    "image_sub21 = img.filter(ImageFilter.Kernel((3, 3), sobel_gx.flatten(), 1, 0)) \n",
    "image_sub22 = img.filter(ImageFilter.Kernel((3, 3), sobel_gy.flatten(), 1, 0)) \n",
    "image_sub23 = Image.fromarray(np.absolute(np.array(image_sub21)) + np.absolute( np.array(image_sub22)))\n",
    "\n",
    "image_sub23.show()"
   ]
  },
  {
   "cell_type": "code",
   "execution_count": null,
   "metadata": {},
   "outputs": [],
   "source": []
  },
  {
   "cell_type": "markdown",
   "metadata": {},
   "source": [
    "# Chapter 9 -Morphological Image Processing"
   ]
  },
  {
   "cell_type": "markdown",
   "metadata": {},
   "source": []
  },
  {
   "cell_type": "code",
   "execution_count": 71,
   "metadata": {
    "ExecuteTime": {
     "end_time": "2021-01-17T07:29:31.822995Z",
     "start_time": "2021-01-17T07:29:30.430330Z"
    }
   },
   "outputs": [],
   "source": [
    "# Erosion shrinks or thins objects in a binary image\n",
    "#  it erodes away the boundaries of foreground object\n",
    "\n",
    "img = Image.open('Images/letterS.jpg').convert('L')\n",
    "#img.show()\n",
    "thresh = 128\n",
    "img2 = img.point(lambda p: p < thresh and 255)\n",
    "img2.show()\n",
    "img2.save('Images/S.jpg')"
   ]
  },
  {
   "cell_type": "code",
   "execution_count": 72,
   "metadata": {
    "ExecuteTime": {
     "end_time": "2021-01-17T07:29:31.869425Z",
     "start_time": "2021-01-17T07:29:31.826997Z"
    }
   },
   "outputs": [
    {
     "name": "stdout",
     "output_type": "stream",
     "text": [
      "\n",
      "\n",
      " [[1 1 1 1 1]\n",
      " [1 1 1 1 1]\n",
      " [1 1 1 1 1]\n",
      " [1 1 1 1 1]\n",
      " [1 1 1 1 1]]\n",
      "\n",
      "\n",
      " [[0 0 1 0 0]\n",
      " [0 1 0 1 0]\n",
      " [1 0 0 0 1]\n",
      " [0 1 0 1 0]\n",
      " [0 0 1 0 0]]\n",
      "\n",
      "\n",
      " [[1 1 1 1 1 1 1 1 1]\n",
      " [1 1 1 1 1 1 1 1 1]\n",
      " [1 1 1 1 1 1 1 1 1]\n",
      " [1 1 1 1 1 1 1 1 1]\n",
      " [1 1 1 1 1 1 1 1 1]\n",
      " [1 1 1 1 1 1 1 1 1]\n",
      " [1 1 1 1 1 1 1 1 1]\n",
      " [1 1 1 1 1 1 1 1 1]\n",
      " [1 1 1 1 1 1 1 1 1]]\n",
      "\n",
      "\n",
      " [[1 1 1 1 1]\n",
      " [1 1 1 1 1]\n",
      " [1 1 1 1 1]\n",
      " [1 1 1 1 1]\n",
      " [1 1 1 1 1]]\n",
      "\n",
      "\n",
      " [[0 0 1 0 0]\n",
      " [1 1 1 1 1]\n",
      " [1 1 1 1 1]\n",
      " [1 1 1 1 1]\n",
      " [0 0 1 0 0]]\n",
      "\n",
      "\n",
      " [[0 0 1 0 0]\n",
      " [0 0 1 0 0]\n",
      " [1 1 1 1 1]\n",
      " [0 0 1 0 0]\n",
      " [0 0 1 0 0]]\n"
     ]
    }
   ],
   "source": [
    "import cv2\n",
    "\n",
    "kernel1 = np.ones((5,5),np.uint8)\n",
    "print(\"\\n\\n\", kernel1)\n",
    "\n",
    "####################################################\n",
    "\n",
    "kernel2 = np.array((\n",
    "                    (0,0,1,0,0),\n",
    "                    (0,1,0,1,0),\n",
    "                    (1,0,0,0,1),\n",
    "                    (0,1,0,1,0),\n",
    "                    (0,0,1,0,0),\n",
    "                    ),np.uint8)\n",
    "print(\"\\n\\n\", kernel2)\n",
    "\n",
    "####################################################\n",
    "\n",
    "kernel3 = np.ones((9,9),np.uint8)\n",
    "print(\"\\n\\n\", kernel3)\n",
    "\n",
    "#####################################################\n",
    "\n",
    "# Rectangular Kernel\n",
    "kernel4 = cv2.getStructuringElement(cv2.MORPH_RECT,(5,5))\n",
    "# array([[1, 1, 1, 1, 1],\n",
    "#        [1, 1, 1, 1, 1],\n",
    "#        [1, 1, 1, 1, 1],\n",
    "#        [1, 1, 1, 1, 1],\n",
    "#        [1, 1, 1, 1, 1]], dtype=uint8)\n",
    "\n",
    "print(\"\\n\\n\", kernel4)\n",
    "##############################################################\n",
    "\n",
    "# Elliptical Kernel\n",
    "kernel5 = cv2.getStructuringElement(cv2.MORPH_ELLIPSE,(5,5))\n",
    "# array([[0, 0, 1, 0, 0],\n",
    "#        [1, 1, 1, 1, 1],\n",
    "#        [1, 1, 1, 1, 1],\n",
    "#        [1, 1, 1, 1, 1],\n",
    "#        [0, 0, 1, 0, 0]], dtype=uint8)\n",
    "\n",
    "print(\"\\n\\n\", kernel5)\n",
    "\n",
    "################################################################\n",
    "\n",
    "# Cross-shaped Kernel\n",
    "kernel6 = cv2.getStructuringElement(cv2.MORPH_CROSS,(5,5))\n",
    "# array([[0, 0, 1, 0, 0],\n",
    "#        [0, 0, 1, 0, 0],\n",
    "#        [1, 1, 1, 1, 1],\n",
    "#        [0, 0, 1, 0, 0],\n",
    "#        [0, 0, 1, 0, 0]], dtype=uint8)\n",
    "\n",
    "print(\"\\n\\n\", kernel6)\n",
    "###############################################################\n",
    "\n"
   ]
  },
  {
   "cell_type": "markdown",
   "metadata": {},
   "source": [
    "## Erosion"
   ]
  },
  {
   "cell_type": "code",
   "execution_count": 73,
   "metadata": {
    "ExecuteTime": {
     "end_time": "2021-01-17T07:29:32.457413Z",
     "start_time": "2021-01-17T07:29:31.872415Z"
    }
   },
   "outputs": [
    {
     "data": {
      "image/png": "[encoded data removed]",
      "text/plain": [
       "<Figure size 1080x1080 with 3 Axes>"
      ]
     },
     "metadata": {
      "needs_background": "light"
     },
     "output_type": "display_data"
    }
   ],
   "source": [
    "img = cv2.imread('Images/S.jpg',0)\n",
    "erosion = cv2.erode(img,kernel1,iterations = 5)\n",
    "erosion1 = cv2.erode(img,kernel2,iterations = 5)\n",
    "\n",
    "\n",
    "fig = plt.figure(figsize=(15,15))\n",
    "a = fig.add_subplot(1, 3, 1)\n",
    "a.set_title('Before')\n",
    "plt.axis(\"off\")\n",
    "imgplot1 = plt.imshow(img ,cmap='gray', vmin=0, vmax=255)\n",
    "\n",
    "\n",
    "\n",
    "a = fig.add_subplot(1, 3, 2)\n",
    "a.set_title('After kernel 1')\n",
    "plt.axis(\"off\")\n",
    "imgplot2 = plt.imshow(erosion,cmap='gray', vmin=0, vmax=255)\n",
    "\n",
    "a = fig.add_subplot(1, 3, 3)\n",
    "a.set_title('After kernel 2')\n",
    "plt.axis(\"off\")\n",
    "imgplot3 = plt.imshow(erosion1,cmap='gray', vmin=0, vmax=255)\n"
   ]
  },
  {
   "cell_type": "code",
   "execution_count": null,
   "metadata": {},
   "outputs": [],
   "source": []
  },
  {
   "cell_type": "markdown",
   "metadata": {},
   "source": [
    "## Dilation"
   ]
  },
  {
   "cell_type": "code",
   "execution_count": 74,
   "metadata": {
    "ExecuteTime": {
     "end_time": "2021-01-17T07:29:32.461419Z",
     "start_time": "2021-01-17T07:29:32.459425Z"
    }
   },
   "outputs": [],
   "source": [
    "#It is just opposite of erosion. Here, a pixel element is ‘1’ if atleast one pixel under the kernel is ‘1’.\n",
    "# So it increases the white region in the image or size of foreground object increases.\n",
    "# Normally, in cases like noise removal, erosion is followed by dilation.\n",
    "# Because, erosion removes white noises, but it also shrinks our object.\n",
    "# So we dilate it. Since noise is gone, they won’t come back, but our object area increases.\n",
    "# It is also useful in joining broken parts of an object."
   ]
  },
  {
   "cell_type": "code",
   "execution_count": 75,
   "metadata": {
    "ExecuteTime": {
     "end_time": "2021-01-17T07:29:33.076414Z",
     "start_time": "2021-01-17T07:29:32.605435Z"
    }
   },
   "outputs": [
    {
     "data": {
      "image/png": "[encoded data removed]",
      "text/plain": [
       "<Figure size 1080x1080 with 3 Axes>"
      ]
     },
     "metadata": {
      "needs_background": "light"
     },
     "output_type": "display_data"
    }
   ],
   "source": [
    "\n",
    "dilation = cv2.dilate(img,kernel1,iterations = 5)\n",
    "dilation1 = cv2.dilate(img,kernel2,iterations = 5)\n",
    "\n",
    "\n",
    "\n",
    "fig = plt.figure(figsize=(15,15))\n",
    "a = fig.add_subplot(1, 3, 1)\n",
    "a.set_title('Before')\n",
    "plt.axis(\"off\")\n",
    "imgplot1 = plt.imshow(img ,cmap='gray', vmin=0, vmax=255)\n",
    "\n",
    "\n",
    "\n",
    "a = fig.add_subplot(1,3, 2)\n",
    "a.set_title('After')\n",
    "plt.axis(\"off\")\n",
    "imgplot2 = plt.imshow(dilation ,cmap='gray', vmin=0, vmax=255)\n",
    "\n",
    "a = fig.add_subplot(1, 3, 3)\n",
    "a.set_title('After kernel 2')\n",
    "plt.axis(\"off\")\n",
    "imgplot3 = plt.imshow(dilation1,cmap='gray', vmin=0, vmax=255)"
   ]
  },
  {
   "cell_type": "code",
   "execution_count": 76,
   "metadata": {
    "ExecuteTime": {
     "end_time": "2021-01-17T07:29:33.219454Z",
     "start_time": "2021-01-17T07:29:33.078416Z"
    }
   },
   "outputs": [],
   "source": [
    "img = Image.open('Images/opening.png')\n",
    "img.size\n",
    "\n",
    "box = (0,0,112,150)\n",
    "\n",
    "img2 = img.crop(box)\n",
    "img2.save('Images/noisybg.png')\n",
    "\n",
    "img = Image.open('Images/closing.png')\n",
    "img.size\n",
    "\n",
    "box = (0,0,112,150)\n",
    "\n",
    "img2 = img.crop(box)\n",
    "img2.save('Images/noisyfg.png')\n",
    "\n",
    "box = (112,0,224,150)\n",
    "\n",
    "img2 = img.crop(box)\n",
    "img2.save('Images/I.png')"
   ]
  },
  {
   "cell_type": "markdown",
   "metadata": {},
   "source": [
    "## Opening"
   ]
  },
  {
   "cell_type": "code",
   "execution_count": 77,
   "metadata": {
    "ExecuteTime": {
     "end_time": "2021-01-17T07:29:34.522496Z",
     "start_time": "2021-01-17T07:29:33.323415Z"
    }
   },
   "outputs": [],
   "source": [
    "#Opening is just another name of erosion followed by dilation. It is useful in removing noise(bg noise pixels),"
   ]
  },
  {
   "cell_type": "code",
   "execution_count": 78,
   "metadata": {
    "ExecuteTime": {
     "end_time": "2021-01-17T07:29:34.780064Z",
     "start_time": "2021-01-17T07:29:34.522496Z"
    }
   },
   "outputs": [
    {
     "data": {
      "image/png": "[encoded data removed]",
      "text/plain": [
       "<Figure size 720x720 with 2 Axes>"
      ]
     },
     "metadata": {
      "needs_background": "light"
     },
     "output_type": "display_data"
    }
   ],
   "source": [
    "img = cv2.imread('Images/noisybg.png',0)\n",
    "\n",
    "opening = cv2.morphologyEx(img, cv2.MORPH_OPEN, kernel1)\n",
    "\n",
    "\n",
    "\n",
    "\n",
    "fig = plt.figure(figsize=(10,10))\n",
    "a = fig.add_subplot(1, 2, 1)\n",
    "a.set_title('Before')\n",
    "plt.axis(\"off\")\n",
    "imgplot1 = plt.imshow(img ,cmap='gray', vmin=0, vmax=255)\n",
    "\n",
    "\n",
    "\n",
    "a = fig.add_subplot(1, 2, 2)\n",
    "a.set_title('After')\n",
    "plt.axis(\"off\")\n",
    "imgplot2 = plt.imshow(opening ,cmap='gray', vmin=0, vmax=255)"
   ]
  },
  {
   "cell_type": "markdown",
   "metadata": {},
   "source": [
    "## Closing"
   ]
  },
  {
   "cell_type": "code",
   "execution_count": 79,
   "metadata": {
    "ExecuteTime": {
     "end_time": "2021-01-17T07:29:34.785064Z",
     "start_time": "2021-01-17T07:29:34.782066Z"
    }
   },
   "outputs": [],
   "source": [
    "# Closing is reverse of Opening, Dilation followed by Erosion. \n",
    "#It is useful in closing small holes inside the foreground objects, or small black points on the object."
   ]
  },
  {
   "cell_type": "code",
   "execution_count": 80,
   "metadata": {
    "ExecuteTime": {
     "end_time": "2021-01-17T07:29:35.053064Z",
     "start_time": "2021-01-17T07:29:34.787066Z"
    }
   },
   "outputs": [
    {
     "data": {
      "image/png": "[encoded data removed]",
      "text/plain": [
       "<Figure size 720x720 with 2 Axes>"
      ]
     },
     "metadata": {
      "needs_background": "light"
     },
     "output_type": "display_data"
    }
   ],
   "source": [
    "img = cv2.imread('Images/noisyfg.png',0)\n",
    "closing = cv2.morphologyEx(img, cv2.MORPH_CLOSE, kernel1)\n",
    "\n",
    "\n",
    "\n",
    "\n",
    "fig = plt.figure(figsize=(10,10))\n",
    "a = fig.add_subplot(1, 2, 1)\n",
    "a.set_title('Before')\n",
    "plt.axis(\"off\")\n",
    "imgplot1 = plt.imshow(img ,cmap='gray', vmin=0, vmax=255)\n",
    "\n",
    "\n",
    "\n",
    "a = fig.add_subplot(1, 2, 2)\n",
    "a.set_title('After')\n",
    "plt.axis(\"off\")\n",
    "imgplot2 = plt.imshow(closing ,cmap='gray', vmin=0, vmax=255)"
   ]
  },
  {
   "cell_type": "markdown",
   "metadata": {},
   "source": [
    "## Morphological Gradient"
   ]
  },
  {
   "cell_type": "code",
   "execution_count": 81,
   "metadata": {
    "ExecuteTime": {
     "end_time": "2021-01-17T07:29:35.058061Z",
     "start_time": "2021-01-17T07:29:35.055062Z"
    }
   },
   "outputs": [],
   "source": [
    "## It is the difference between dilation and erosion of an image.\n",
    "\n",
    "#The result will look like the outline of the object."
   ]
  },
  {
   "cell_type": "code",
   "execution_count": 82,
   "metadata": {
    "ExecuteTime": {
     "end_time": "2021-01-17T07:29:35.745067Z",
     "start_time": "2021-01-17T07:29:35.060059Z"
    }
   },
   "outputs": [
    {
     "data": {
      "image/png": "[encoded data removed]",
      "text/plain": [
       "<Figure size 720x720 with 2 Axes>"
      ]
     },
     "metadata": {
      "needs_background": "light"
     },
     "output_type": "display_data"
    }
   ],
   "source": [
    "img = cv2.imread('Images/S.jpg',0)\n",
    "Grad = cv2.morphologyEx(img, cv2.MORPH_GRADIENT, kernel1)\n",
    "\n",
    "\n",
    "\n",
    "fig = plt.figure(figsize=(10,10))\n",
    "a = fig.add_subplot(1, 2, 1)\n",
    "a.set_title('Before')\n",
    "plt.axis(\"off\")\n",
    "imgplot1 = plt.imshow(img ,cmap='gray', vmin=0, vmax=255)\n",
    "\n",
    "\n",
    "\n",
    "a = fig.add_subplot(1, 2, 2)\n",
    "a.set_title('After')\n",
    "plt.axis(\"off\")\n",
    "imgplot2 = plt.imshow(Grad ,cmap='gray', vmin=0, vmax=255)"
   ]
  },
  {
   "cell_type": "code",
   "execution_count": 83,
   "metadata": {
    "ExecuteTime": {
     "end_time": "2021-01-17T07:29:47.097209Z",
     "start_time": "2021-01-17T07:29:47.091224Z"
    }
   },
   "outputs": [],
   "source": [
    "#It is the difference between input image and Opening of the image"
   ]
  },
  {
   "cell_type": "code",
   "execution_count": 84,
   "metadata": {
    "ExecuteTime": {
     "end_time": "2021-01-17T07:29:47.982456Z",
     "start_time": "2021-01-17T07:29:47.809454Z"
    }
   },
   "outputs": [
    {
     "data": {
      "image/png": "[encoded data removed]",
      "text/plain": [
       "<Figure size 720x720 with 2 Axes>"
      ]
     },
     "metadata": {
      "needs_background": "light"
     },
     "output_type": "display_data"
    }
   ],
   "source": [
    "img = cv2.imread('Images/I.png',0)\n",
    "tophat = cv2.morphologyEx(img, cv2.MORPH_TOPHAT, kernel3)# 9x9 kernel\n",
    "\n",
    "\n",
    "\n",
    "\n",
    "fig = plt.figure(figsize=(10,10))\n",
    "a = fig.add_subplot(1, 2, 1)\n",
    "a.set_title('Before')\n",
    "plt.axis(\"off\")\n",
    "imgplot1 = plt.imshow(img ,cmap='gray', vmin=0, vmax=255)\n",
    "\n",
    "\n",
    "\n",
    "a = fig.add_subplot(1, 2, 2)\n",
    "a.set_title('After')\n",
    "plt.axis(\"off\")\n",
    "imgplot2 = plt.imshow(tophat ,cmap='gray', vmin=0, vmax=255)\n"
   ]
  },
  {
   "cell_type": "code",
   "execution_count": 85,
   "metadata": {
    "ExecuteTime": {
     "end_time": "2021-01-17T07:29:48.316658Z",
     "start_time": "2021-01-17T07:29:48.313653Z"
    }
   },
   "outputs": [],
   "source": [
    "#It is the difference between the closing of the input image and input image."
   ]
  },
  {
   "cell_type": "code",
   "execution_count": 86,
   "metadata": {
    "ExecuteTime": {
     "end_time": "2021-01-17T07:29:48.838654Z",
     "start_time": "2021-01-17T07:29:48.666658Z"
    }
   },
   "outputs": [
    {
     "data": {
      "image/png": "[encoded data removed]",
      "text/plain": [
       "<Figure size 720x720 with 2 Axes>"
      ]
     },
     "metadata": {
      "needs_background": "light"
     },
     "output_type": "display_data"
    }
   ],
   "source": [
    "img = cv2.imread('Images/I.png',0)\n",
    "blackhat = cv2.morphologyEx(img, cv2.MORPH_BLACKHAT, kernel3)\n",
    "\n",
    "\n",
    "\n",
    "fig = plt.figure(figsize=(10,10))\n",
    "a = fig.add_subplot(1, 2, 1)\n",
    "a.set_title('Before')\n",
    "plt.axis(\"off\")\n",
    "imgplot1 = plt.imshow(img ,cmap='gray', vmin=0, vmax=255)\n",
    "\n",
    "\n",
    "\n",
    "a = fig.add_subplot(1, 2, 2)\n",
    "a.set_title('After')\n",
    "plt.axis(\"off\")\n",
    "imgplot2 = plt.imshow(blackhat ,cmap='gray', vmin=0, vmax=255)\n"
   ]
  },
  {
   "cell_type": "code",
   "execution_count": null,
   "metadata": {},
   "outputs": [],
   "source": []
  },
  {
   "cell_type": "markdown",
   "metadata": {},
   "source": [
    "## Hit Or Miss"
   ]
  },
  {
   "cell_type": "code",
   "execution_count": 87,
   "metadata": {
    "ExecuteTime": {
     "end_time": "2021-01-17T07:29:49.700086Z",
     "start_time": "2021-01-17T07:29:49.487208Z"
    }
   },
   "outputs": [
    {
     "data": {
      "image/png": "[encoded data removed]",
      "text/plain": [
       "<Figure size 1080x1080 with 3 Axes>"
      ]
     },
     "metadata": {
      "needs_background": "light"
     },
     "output_type": "display_data"
    }
   ],
   "source": [
    "# Create the input image\n",
    "input_image = np.array((\n",
    "    [0, 0, 0, 0, 0, 0, 0, 0],\n",
    "    [0, 255, 255, 255, 0, 0, 0, 255],\n",
    "    [0, 0, 255, 255, 0, 0, 0, 0],\n",
    "    [0, 0, 255, 255, 0, 0, 0, 0],\n",
    "    [0, 0, 0, 0, 0, 0, 0, 0],\n",
    "    [0, 255, 255, 0, 0, 255, 255, 255],\n",
    "    [0,255, 0, 0, 0, 0, 255, 0],\n",
    "    [0, 255, 0, 0, 0, 0, 255, 0]), dtype=\"uint8\")\n",
    " \n",
    "# Construct the structuring element (T shape)\n",
    "# 1 is fg , -1 is bg and 0 is dont care pixel\n",
    "kernel1 = np.array((\n",
    "        [1, 1, 1],\n",
    "        [0, 1, 0],\n",
    "        [0, 1, 0]), dtype=\"int\")\n",
    "\n",
    "kernel2 = np.array((\n",
    "        [1, 1, 1],\n",
    "        [0, 1, -1],\n",
    "        [0, 1, -1]), dtype=\"int\")\n",
    " \n",
    "# Apply hit-or-miss transformation \n",
    "output_image1 = cv2.morphologyEx(input_image, cv2.MORPH_HITMISS, kernel1)\n",
    "output_image2 = cv2.morphologyEx(input_image, cv2.MORPH_HITMISS, kernel2)\n",
    "\n",
    "fig = plt.figure(figsize=(15,15))\n",
    "a = fig.add_subplot(1, 3, 1) # 1x3 frame 1st box\n",
    "a.set_title('Input')\n",
    "plt.axis(\"off\")\n",
    "imgplot1 = plt.imshow(input_image ,cmap='gray', vmin=0, vmax=255)\n",
    "\n",
    "\n",
    "a = fig.add_subplot(1, 3, 2)\n",
    "a.set_title('Output kernel 1')\n",
    "plt.axis(\"off\")\n",
    "imgplot2 = plt.imshow(output_image1 ,cmap='gray', vmin=0, vmax=255)\n",
    "\n",
    "a = fig.add_subplot(1, 3, 3)\n",
    "a.set_title('Output kernel 2')\n",
    "plt.axis(\"off\")\n",
    "imgplot3 = plt.imshow(output_image2 ,cmap='gray', vmin=0, vmax=255)\n",
    "\n",
    "\n",
    "#print(\"\\n\\n Input Image \\n\\n\" , np.array(input_image) )\n",
    "#print(\"\\n\\n Output Image \\n\\n\" , np.array(output_image1) )"
   ]
  },
  {
   "cell_type": "markdown",
   "metadata": {},
   "source": [
    "## Boundary Extraction"
   ]
  },
  {
   "cell_type": "code",
   "execution_count": 88,
   "metadata": {
    "ExecuteTime": {
     "end_time": "2021-01-17T07:29:50.002085Z",
     "start_time": "2021-01-17T07:29:49.998085Z"
    }
   },
   "outputs": [],
   "source": [
    "#The boundary of a set denoted by can be obtained by first eroding\n",
    "#by and then performing the set difference between and its erosion."
   ]
  },
  {
   "cell_type": "code",
   "execution_count": 89,
   "metadata": {
    "ExecuteTime": {
     "end_time": "2021-01-17T07:29:50.299091Z",
     "start_time": "2021-01-17T07:29:50.279092Z"
    }
   },
   "outputs": [
    {
     "ename": "TypeError",
     "evalue": "cannot unpack non-iterable int object",
     "output_type": "error",
     "traceback": [
      "\u001b[1;31m---------------------------------------------------------------------------\u001b[0m",
      "\u001b[1;31mTypeError\u001b[0m                                 Traceback (most recent call last)",
      "\u001b[1;32m<ipython-input-89-c8267a2bb9c2>\u001b[0m in \u001b[0;36m<module>\u001b[1;34m\u001b[0m\n\u001b[0;32m     11\u001b[0m         [1, 1, 1]), dtype=\"int\")\n\u001b[0;32m     12\u001b[0m \u001b[1;33m\u001b[0m\u001b[0m\n\u001b[1;32m---> 13\u001b[1;33m \u001b[0minput_image_pad\u001b[0m \u001b[1;33m=\u001b[0m \u001b[0mnp\u001b[0m\u001b[1;33m.\u001b[0m\u001b[0marray\u001b[0m\u001b[1;33m(\u001b[0m\u001b[0madd_margin\u001b[0m\u001b[1;33m(\u001b[0m\u001b[1;33m(\u001b[0m\u001b[0minput_image\u001b[0m\u001b[1;33m)\u001b[0m \u001b[1;33m,\u001b[0m \u001b[1;36m1\u001b[0m\u001b[1;33m,\u001b[0m\u001b[1;36m1\u001b[0m\u001b[1;33m,\u001b[0m\u001b[1;36m1\u001b[0m\u001b[1;33m,\u001b[0m\u001b[1;36m1\u001b[0m\u001b[1;33m,\u001b[0m\u001b[1;36m0\u001b[0m\u001b[1;33m)\u001b[0m\u001b[1;33m)\u001b[0m \u001b[1;31m#padding image\u001b[0m\u001b[1;33m\u001b[0m\u001b[1;33m\u001b[0m\u001b[0m\n\u001b[0m\u001b[0;32m     14\u001b[0m \u001b[1;33m\u001b[0m\u001b[0m\n\u001b[0;32m     15\u001b[0m \u001b[0mEroded\u001b[0m \u001b[1;33m=\u001b[0m \u001b[0mcv2\u001b[0m\u001b[1;33m.\u001b[0m\u001b[0merode\u001b[0m\u001b[1;33m(\u001b[0m\u001b[0minput_image_pad\u001b[0m \u001b[1;33m,\u001b[0m \u001b[0mkernel0\u001b[0m \u001b[1;33m,\u001b[0m \u001b[0miterations\u001b[0m \u001b[1;33m=\u001b[0m \u001b[1;36m1\u001b[0m \u001b[1;33m)\u001b[0m \u001b[1;31m#eroding image\u001b[0m\u001b[1;33m\u001b[0m\u001b[1;33m\u001b[0m\u001b[0m\n",
      "\u001b[1;32m<ipython-input-63-e13c2f20b3d3>\u001b[0m in \u001b[0;36madd_margin\u001b[1;34m(pil_img, top, right, bottom, left, color)\u001b[0m\n\u001b[0;32m      3\u001b[0m \u001b[1;32mdef\u001b[0m \u001b[0madd_margin\u001b[0m\u001b[1;33m(\u001b[0m\u001b[0mpil_img\u001b[0m\u001b[1;33m,\u001b[0m \u001b[0mtop\u001b[0m\u001b[1;33m,\u001b[0m \u001b[0mright\u001b[0m\u001b[1;33m,\u001b[0m \u001b[0mbottom\u001b[0m\u001b[1;33m,\u001b[0m \u001b[0mleft\u001b[0m\u001b[1;33m,\u001b[0m \u001b[0mcolor\u001b[0m\u001b[1;33m)\u001b[0m\u001b[1;33m:\u001b[0m\u001b[1;33m\u001b[0m\u001b[1;33m\u001b[0m\u001b[0m\n\u001b[0;32m      4\u001b[0m \u001b[1;33m\u001b[0m\u001b[0m\n\u001b[1;32m----> 5\u001b[1;33m     \u001b[0mwidth\u001b[0m\u001b[1;33m,\u001b[0m \u001b[0mheight\u001b[0m \u001b[1;33m=\u001b[0m \u001b[0mpil_img\u001b[0m\u001b[1;33m.\u001b[0m\u001b[0msize\u001b[0m\u001b[1;33m\u001b[0m\u001b[1;33m\u001b[0m\u001b[0m\n\u001b[0m\u001b[0;32m      6\u001b[0m     \u001b[0mnew_width\u001b[0m \u001b[1;33m=\u001b[0m \u001b[0mwidth\u001b[0m \u001b[1;33m+\u001b[0m \u001b[0mright\u001b[0m \u001b[1;33m+\u001b[0m \u001b[0mleft\u001b[0m\u001b[1;33m\u001b[0m\u001b[1;33m\u001b[0m\u001b[0m\n\u001b[0;32m      7\u001b[0m     \u001b[0mnew_height\u001b[0m \u001b[1;33m=\u001b[0m \u001b[0mheight\u001b[0m \u001b[1;33m+\u001b[0m \u001b[0mtop\u001b[0m \u001b[1;33m+\u001b[0m \u001b[0mbottom\u001b[0m\u001b[1;33m\u001b[0m\u001b[1;33m\u001b[0m\u001b[0m\n",
      "\u001b[1;31mTypeError\u001b[0m: cannot unpack non-iterable int object"
     ]
    }
   ],
   "source": [
    "# Create the input image\n",
    "input_image = 255* np.ones((5,10), dtype=\"uint8\")\n",
    "\n",
    "input_image[0][3] = input_image[1][3] =input_image[0][9] =input_image[1][9] = 0\n",
    "\n",
    "# Construct the structuring element (T shape)\n",
    "# 1 is fg , -1 is bg and 0 is dont care pixel\n",
    "kernel0 = np.array((\n",
    "        [1, 1, 1],\n",
    "        [1, 1, 1],\n",
    "        [1, 1, 1]), dtype=\"int\")\n",
    "\n",
    "input_image_pad = np.array(add_margin((input_image) , 1,1,1,1,0)) #padding image\n",
    "\n",
    "Eroded = cv2.erode(input_image_pad , kernel0 , iterations = 1 ) #eroding image\n",
    "\n",
    "Eroded = del_margin((np.array(Eroded)) , 1,1,1,1)               #antipadding image\n",
    "\n",
    "\n",
    "\n",
    "boundary_image = cv2.subtract(input_image , Eroded)             #extraacting boundary         \n",
    "\n",
    "\n",
    "\n",
    "\n",
    "fig = plt.figure(figsize=(13,13))\n",
    "a = fig.add_subplot(1, 3, 1) # 1x3 frame 1st box\n",
    "a.set_title('Input')\n",
    "#plt.axis(\"off\")\n",
    "imgplot1 = plt.imshow(input_image ,cmap='gray', vmin=0, vmax=255)\n",
    "\n",
    "a = fig.add_subplot(1, 3, 2)\n",
    "a.set_title('Eroded')\n",
    "#plt.axis(\"off\")\n",
    "imgplot2 = plt.imshow(Eroded ,cmap='gray', vmin=0, vmax=255)\n",
    "\n",
    "a = fig.add_subplot(1, 3, 3)\n",
    "a.set_title('Output ')\n",
    "#plt.axis(\"off\")\n",
    "imgplot2 = plt.imshow(boundary_image ,cmap='gray', vmin=0, vmax=255)"
   ]
  },
  {
   "cell_type": "code",
   "execution_count": null,
   "metadata": {},
   "outputs": [],
   "source": []
  },
  {
   "cell_type": "markdown",
   "metadata": {},
   "source": [
    "## Hole Filling Algorithm"
   ]
  },
  {
   "cell_type": "code",
   "execution_count": 90,
   "metadata": {
    "ExecuteTime": {
     "end_time": "2021-01-17T07:29:51.062975Z",
     "start_time": "2021-01-17T07:29:51.055984Z"
    }
   },
   "outputs": [],
   "source": [
    "def fillhole(input_image):\n",
    "    im_flood_fill = input_image.copy()  # Copy the thresholded image.\n",
    "    \n",
    "    # Mask used to flood filling.\n",
    "    # Notice the size needs to be 2 pixels than the image.\n",
    "    h, w = input_image.shape[:2]\n",
    "    mask = np.zeros((h + 2, w + 2), np.uint8)\n",
    "    \n",
    "    # Floodfill from point (0, 0)\n",
    "    im_flood_fill = im_flood_fill.astype(\"uint8\")\n",
    "    cv2.floodFill(im_flood_fill, mask, (0, 0), 255)\n",
    "    \n",
    "    # Invert floodfilled image\n",
    "    im_flood_fill_inv = cv2.bitwise_not(im_flood_fill)\n",
    "    \n",
    "    # Combine the two images to get the foreground.\n",
    "    img_out = input_image | im_flood_fill_inv\n",
    "    \n",
    "    return img_out"
   ]
  },
  {
   "cell_type": "code",
   "execution_count": 91,
   "metadata": {
    "ExecuteTime": {
     "end_time": "2021-01-17T07:29:51.675980Z",
     "start_time": "2021-01-17T07:29:51.326981Z"
    }
   },
   "outputs": [
    {
     "data": {
      "image/png": "[encoded data removed]",
      "text/plain": [
       "<Figure size 1080x1080 with 2 Axes>"
      ]
     },
     "metadata": {
      "needs_background": "light"
     },
     "output_type": "display_data"
    }
   ],
   "source": [
    "img = cv2.imread(\"Images/noisyfg.png\" ,0)\n",
    "\n",
    "holefilled = fillhole(img)\n",
    "\n",
    "fig = plt.figure(figsize=(15,15))\n",
    "\n",
    "a = fig.add_subplot(1, 3, 1) # 1x3 frame 1st box\n",
    "a.set_title('Input')\n",
    "#plt.axis(\"off\")\n",
    "imgplot1 = plt.imshow(img ,cmap='gray', vmin=0, vmax=255)\n",
    "\n",
    "\n",
    "\n",
    "a = fig.add_subplot(1, 3, 2)\n",
    "a.set_title('Output ')\n",
    "#plt.axis(\"off\")\n",
    "imgplot2 = plt.imshow(holefilled ,cmap='gray', vmin=0, vmax=255)"
   ]
  },
  {
   "cell_type": "code",
   "execution_count": null,
   "metadata": {},
   "outputs": [],
   "source": []
  },
  {
   "cell_type": "markdown",
   "metadata": {},
   "source": [
    "## Convex Hull"
   ]
  },
  {
   "cell_type": "code",
   "execution_count": 93,
   "metadata": {
    "ExecuteTime": {
     "end_time": "2021-01-17T07:30:36.005521Z",
     "start_time": "2021-01-17T07:30:35.882270Z"
    }
   },
   "outputs": [
    {
     "ename": "error",
     "evalue": "OpenCV(3.4.1) C:\\Miniconda3\\conda-bld\\opencv-suite_1533128839831\\work\\modules\\imgproc\\src\\convhull.cpp:137: error: (-215) total >= 0 && (depth == 5 || depth == 4) in function cv::convexHull\n",
     "output_type": "error",
     "traceback": [
      "\u001b[1;31m---------------------------------------------------------------------------\u001b[0m",
      "\u001b[1;31merror\u001b[0m                                     Traceback (most recent call last)",
      "\u001b[1;32m<ipython-input-93-c116ff837749>\u001b[0m in \u001b[0;36m<module>\u001b[1;34m\u001b[0m\n\u001b[0;32m     13\u001b[0m \u001b[1;31m# For each contour, find the convex hull and draw it on the original image.\u001b[0m\u001b[1;33m\u001b[0m\u001b[1;33m\u001b[0m\u001b[1;33m\u001b[0m\u001b[0m\n\u001b[0;32m     14\u001b[0m \u001b[1;32mfor\u001b[0m \u001b[0mi\u001b[0m \u001b[1;32min\u001b[0m \u001b[0mrange\u001b[0m\u001b[1;33m(\u001b[0m\u001b[0mlen\u001b[0m\u001b[1;33m(\u001b[0m\u001b[0mcontours\u001b[0m\u001b[1;33m)\u001b[0m\u001b[1;33m)\u001b[0m\u001b[1;33m:\u001b[0m\u001b[1;33m\u001b[0m\u001b[1;33m\u001b[0m\u001b[0m\n\u001b[1;32m---> 15\u001b[1;33m     \u001b[0mhull\u001b[0m \u001b[1;33m=\u001b[0m \u001b[0mcv2\u001b[0m\u001b[1;33m.\u001b[0m\u001b[0mconvexHull\u001b[0m\u001b[1;33m(\u001b[0m\u001b[0mcontours\u001b[0m\u001b[1;33m[\u001b[0m\u001b[0mi\u001b[0m\u001b[1;33m]\u001b[0m\u001b[1;33m)\u001b[0m\u001b[1;33m\u001b[0m\u001b[1;33m\u001b[0m\u001b[0m\n\u001b[0m\u001b[0;32m     16\u001b[0m     \u001b[0mcv2\u001b[0m\u001b[1;33m.\u001b[0m\u001b[0mdrawContours\u001b[0m\u001b[1;33m(\u001b[0m\u001b[0mimg1\u001b[0m\u001b[1;33m,\u001b[0m \u001b[1;33m[\u001b[0m\u001b[0mhull\u001b[0m\u001b[1;33m]\u001b[0m\u001b[1;33m,\u001b[0m \u001b[1;33m-\u001b[0m\u001b[1;36m1\u001b[0m\u001b[1;33m,\u001b[0m \u001b[1;33m(\u001b[0m\u001b[1;36m255\u001b[0m\u001b[1;33m,\u001b[0m \u001b[1;36m0\u001b[0m\u001b[1;33m,\u001b[0m \u001b[1;36m0\u001b[0m\u001b[1;33m)\u001b[0m\u001b[1;33m,\u001b[0m \u001b[1;36m2\u001b[0m\u001b[1;33m)\u001b[0m\u001b[1;33m\u001b[0m\u001b[1;33m\u001b[0m\u001b[0m\n\u001b[0;32m     17\u001b[0m \u001b[1;33m\u001b[0m\u001b[0m\n",
      "\u001b[1;31merror\u001b[0m: OpenCV(3.4.1) C:\\Miniconda3\\conda-bld\\opencv-suite_1533128839831\\work\\modules\\imgproc\\src\\convhull.cpp:137: error: (-215) total >= 0 && (depth == 5 || depth == 4) in function cv::convexHull\n"
     ]
    }
   ],
   "source": [
    "# Load the image\n",
    "img1 = cv2.imread('Images/pic1.png')\n",
    "\n",
    "# Convert it to greyscale\n",
    "img = cv2.cvtColor(img1, cv2.COLOR_BGR2GRAY)\n",
    "\n",
    "# Threshold the image\n",
    "ret, thresh = cv2.threshold(img,50,255,0)\n",
    "\n",
    "# Find the contours\n",
    "contours, hierarchy = cv2.findContours(thresh, cv2.RETR_TREE, cv2.CHAIN_APPROX_SIMPLE)\n",
    "\n",
    "# For each contour, find the convex hull and draw it on the original image.\n",
    "for i in range(len(contours)):\n",
    "    hull = cv2.convexHull(contours[i])\n",
    "    cv2.drawContours(img1, [hull], -1, (255, 0, 0), 2)\n",
    "    \n",
    "# Display the final convex hull image\n",
    "fig = plt.figure(figsize=(15,15))\n",
    "\n",
    "a = fig.add_subplot(1, 2, 1)\n",
    "a.set_title('Input')\n",
    "#plt.axis(\"off\")\n",
    "imgplot1 = plt.imshow(img ,cmap='gray', vmin=0, vmax=255)\n",
    "\n",
    "a = fig.add_subplot(1, 2, 2) \n",
    "a.set_title('Output')\n",
    "#plt.axis(\"off\")\n",
    "imgplot1 = plt.imshow(img1 ,cmap='gray', vmin=0, vmax=255)\n",
    "\n",
    "\n"
   ]
  },
  {
   "cell_type": "markdown",
   "metadata": {},
   "source": [
    "## Thinning"
   ]
  },
  {
   "cell_type": "code",
   "execution_count": 94,
   "metadata": {
    "ExecuteTime": {
     "end_time": "2021-01-17T07:30:51.768275Z",
     "start_time": "2021-01-17T07:30:51.362087Z"
    }
   },
   "outputs": [
    {
     "data": {
      "image/png": "[encoded data removed]",
      "text/plain": [
       "<Figure size 1080x1080 with 2 Axes>"
      ]
     },
     "metadata": {
      "needs_background": "light"
     },
     "output_type": "display_data"
    }
   ],
   "source": [
    "img = cv2.imread(\"Images/S.jpg\",0)\n",
    "\n",
    "# Structuring Element\n",
    "kernel = cv2.getStructuringElement(cv2.MORPH_CROSS,(3,3))\n",
    "# Create an empty output image to hold values\n",
    "thin = np.zeros(img.shape,dtype='uint8')\n",
    "img1 = img.copy()\n",
    " \n",
    "# Loop until erosion leads to an empty set\n",
    "while (cv2.countNonZero(img1)!=0):\n",
    "    # Erosion\n",
    "    erode = cv2.erode(img1,kernel)\n",
    "    # Opening on eroded image\n",
    "    opening = cv2.morphologyEx(erode,cv2.MORPH_OPEN,kernel)\n",
    "    # Subtract these two\n",
    "    subset = erode - opening\n",
    "    # Union of all previous sets\n",
    "    thin = cv2.bitwise_or(subset,thin)\n",
    "    # Set the eroded image for next iteration\n",
    "    img1 = erode.copy()\n",
    "    \n",
    "# Display the final convex hull image\n",
    "fig = plt.figure(figsize=(15,15))\n",
    "\n",
    "a = fig.add_subplot(1, 2, 1)\n",
    "a.set_title('Input')\n",
    "plt.axis(\"off\")\n",
    "imgplot1 = plt.imshow(img ,cmap='gray', vmin=0, vmax=255)\n",
    "\n",
    "a = fig.add_subplot(1, 2, 2) \n",
    "a.set_title('Output')\n",
    "plt.axis(\"off\")\n",
    "imgplot1 = plt.imshow(thin ,cmap='gray', vmin=0, vmax=255)"
   ]
  },
  {
   "cell_type": "markdown",
   "metadata": {},
   "source": [
    "## THickening"
   ]
  },
  {
   "cell_type": "code",
   "execution_count": 95,
   "metadata": {
    "ExecuteTime": {
     "end_time": "2021-01-17T07:30:53.333197Z",
     "start_time": "2021-01-17T07:30:53.324216Z"
    }
   },
   "outputs": [],
   "source": [
    "# img = cv2.imread(\"Images/S.jpg\",0)\n",
    "\n",
    "# # Structuring Element\n",
    "# kernel = cv2.getStructuringElement(cv2.MORPH_CROSS,(3,3))\n",
    "# # Create an empty output image to hold values\n",
    "# thick = np.zeros(img.shape,dtype='uint8')\n",
    "# img1 = img.copy()\n",
    " \n",
    "# # Loop until erosion leads to an empty set\n",
    "# while (cv2.countNonZero(img1)==0):\n",
    "#     # Erosion\n",
    "#     dilate = cv2.dilate(img1,kernel)\n",
    "#     # Opening on eroded image\n",
    "#     closing = cv2.morphologyEx(dilate,cv2.MORPH_CLOSE,kernel)\n",
    "#     # Subtract these two\n",
    "#     subset = dilate + closing\n",
    "#     # Union of all previous sets\n",
    "#     thick = cv2.bitwise_and(subset,thick)\n",
    "#     # Set the eroded image for next iteration\n",
    "#     img1 = dilate.copy()\n",
    "    \n",
    "# # Display the final convex hull image\n",
    "# fig = plt.figure(figsize=(15,15))\n",
    "\n",
    "# a = fig.add_subplot(1, 2, 1)\n",
    "# a.set_title('Input')\n",
    "# plt.axis(\"off\")\n",
    "# imgplot1 = plt.imshow(img ,cmap='gray', vmin=0, vmax=255)\n",
    "\n",
    "# a = fig.add_subplot(1, 2, 2) \n",
    "# a.set_title('Output')\n",
    "# plt.axis(\"off\")\n",
    "# imgplot1 = plt.imshow(thick ,cmap='gray', vmin=0, vmax=255)"
   ]
  },
  {
   "cell_type": "markdown",
   "metadata": {},
   "source": [
    "## Skeleton"
   ]
  },
  {
   "cell_type": "code",
   "execution_count": 96,
   "metadata": {
    "ExecuteTime": {
     "end_time": "2021-01-17T07:30:54.373746Z",
     "start_time": "2021-01-17T07:30:54.014056Z"
    }
   },
   "outputs": [
    {
     "data": {
      "image/png": "[encoded data removed]",
      "text/plain": [
       "<Figure size 1080x1080 with 2 Axes>"
      ]
     },
     "metadata": {
      "needs_background": "light"
     },
     "output_type": "display_data"
    }
   ],
   "source": [
    "img1 = cv2.imread('Images/S.jpg',0)\n",
    "img = img1.copy()\n",
    "size = np.size(img)\n",
    "skel = np.zeros(img.shape,np.uint8)\n",
    "\n",
    "ret,img = cv2.threshold(img,127,255,0)\n",
    "element = cv2.getStructuringElement(cv2.MORPH_CROSS,(3,3))\n",
    "done = False\n",
    "\n",
    "while( not done):\n",
    "    eroded = cv2.erode(img,element)\n",
    "    temp = cv2.dilate(eroded,element)\n",
    "    temp = cv2.subtract(img,temp)\n",
    "    skel = cv2.bitwise_or(skel,temp)\n",
    "    img = eroded.copy()\n",
    "\n",
    "    zeros = size - cv2.countNonZero(img)\n",
    "    if zeros==size:\n",
    "        done = True\n",
    "        \n",
    "        \n",
    "# Display the final convex hull image\n",
    "fig = plt.figure(figsize=(15,15))\n",
    "\n",
    "a = fig.add_subplot(1, 2, 1)\n",
    "a.set_title('Input')\n",
    "plt.axis(\"off\")\n",
    "imgplot1 = plt.imshow(img1 ,cmap='gray', vmin=0, vmax=255)\n",
    "\n",
    "a = fig.add_subplot(1, 2, 2) \n",
    "a.set_title('Output')\n",
    "plt.axis(\"off\")\n",
    "imgplot1 = plt.imshow(skel ,cmap='gray', vmin=0, vmax=255)"
   ]
  },
  {
   "cell_type": "code",
   "execution_count": null,
   "metadata": {},
   "outputs": [],
   "source": []
  },
  {
   "cell_type": "code",
   "execution_count": null,
   "metadata": {},
   "outputs": [],
   "source": []
  },
  {
   "cell_type": "code",
   "execution_count": null,
   "metadata": {},
   "outputs": [],
   "source": []
  },
  {
   "cell_type": "code",
   "execution_count": null,
   "metadata": {},
   "outputs": [],
   "source": []
  },
  {
   "cell_type": "code",
   "execution_count": null,
   "metadata": {},
   "outputs": [],
   "source": []
  },
  {
   "cell_type": "code",
   "execution_count": null,
   "metadata": {},
   "outputs": [],
   "source": []
  },
  {
   "cell_type": "code",
   "execution_count": null,
   "metadata": {},
   "outputs": [],
   "source": []
  },
  {
   "cell_type": "markdown",
   "metadata": {},
   "source": [
    "# Apply Filter on Array of Image"
   ]
  },
  {
   "cell_type": "code",
   "execution_count": null,
   "metadata": {
    "ExecuteTime": {
     "end_time": "2021-01-17T07:26:56.799059Z",
     "start_time": "2021-01-17T07:26:05.972Z"
    }
   },
   "outputs": [],
   "source": [
    "imgarr = np.array((\n",
    "        (10, 12, 10, 11, 12),\n",
    "        (11,200, 201, 200, 202),\n",
    "        (11, 200, 11, 12, 10),\n",
    "        (10, 201, 10, 11, 11),\n",
    "        (10, 200, 11, 12, 10),\n",
    "      ))\n",
    "\n",
    "print(imgarr)"
   ]
  },
  {
   "cell_type": "code",
   "execution_count": null,
   "metadata": {
    "ExecuteTime": {
     "end_time": "2021-01-17T07:26:56.799059Z",
     "start_time": "2021-01-17T07:26:05.976Z"
    }
   },
   "outputs": [],
   "source": [
    "sobel_gx = np.array((\n",
    "            (-1,-2,-1),\n",
    "            (0,0,0),\n",
    "            (1,2,1),\n",
    "            ))\n",
    "\n",
    "sobel_gy = np.array((\n",
    "            (-1,0,1),\n",
    "            (-2,0,2),\n",
    "            (-1,0,1),\n",
    "            ))\n",
    "\n",
    "print(sobel_gx)\n",
    "print(\"\\n\\n\")\n",
    "print(sobel_gy)"
   ]
  },
  {
   "cell_type": "markdown",
   "metadata": {},
   "source": [
    "## Add and Remove Margin of Array"
   ]
  },
  {
   "cell_type": "code",
   "execution_count": null,
   "metadata": {
    "ExecuteTime": {
     "end_time": "2021-01-17T07:26:56.799059Z",
     "start_time": "2021-01-17T07:26:05.981Z"
    }
   },
   "outputs": [],
   "source": [
    "#padding\n",
    "\n",
    "def add_margin(array, top, right, bottom, left , intensity): \n",
    "    \n",
    "    width, height = array.shape\n",
    "    new_width = width + right + left\n",
    "    new_height = height + top + bottom\n",
    "    Result = intensity * np.ones((new_width,new_height),dtype=\"uint8\")\n",
    "    \n",
    "    for i in range(top,new_width-bottom):\n",
    "        for j in range(left,new_height-right):\n",
    "            Result[i][j] = array[i-top][j-right]\n",
    "        \n",
    "    return Result\n",
    "\n",
    "#anti_padding\n",
    "\n",
    "def del_margin(array, top, right, bottom, left):\n",
    "    \n",
    "    width, height = array.shape\n",
    "    new_width = width - right - left\n",
    "    new_height = height - top - bottom\n",
    "    Result = np.zeros((new_width,new_height),dtype=\"uint8\")\n",
    "    \n",
    "    for i in range(0,new_width):\n",
    "        for j in range(0,new_height):\n",
    "            Result[i][j] = array[i+top][j+right]\n",
    "    return Result\n",
    "\n"
   ]
  },
  {
   "cell_type": "code",
   "execution_count": null,
   "metadata": {
    "ExecuteTime": {
     "end_time": "2021-01-17T07:26:56.799059Z",
     "start_time": "2021-01-17T07:26:05.985Z"
    }
   },
   "outputs": [],
   "source": [
    "img_new = add_margin(imgarr, 1, 1, 1, 1 , 0)\n",
    "print(\"\\n\\n\" ,img_new)\n",
    "\n",
    "img_new2 = del_margin(img_new, 1, 1, 1, 1 )\n",
    "print(\"\\n\\n\" , img_new2)\n",
    "\n",
    "img_new3 = add_margin(imgarr, 2,2,2,2 , 255)\n",
    "print(\"\\n\\n\" ,img_new3)\n",
    "\n",
    "img_new4 = del_margin(img_new3, 2, 2, 2, 2)\n",
    "print(\"\\n\\n\" , img_new4)"
   ]
  },
  {
   "cell_type": "markdown",
   "metadata": {},
   "source": [
    "## Apply 3x3 and 5x5 filter on Array"
   ]
  },
  {
   "cell_type": "code",
   "execution_count": null,
   "metadata": {
    "ExecuteTime": {
     "end_time": "2021-01-17T07:26:56.814683Z",
     "start_time": "2021-01-17T07:26:05.990Z"
    }
   },
   "outputs": [],
   "source": [
    "\n",
    "def applyFilter3 (array , mask):\n",
    "    \n",
    "    width, height = array.shape\n",
    "    Result = np.zeros((width,height),dtype=int)\n",
    "    \n",
    "    for i in range(1,width - 1):\n",
    "        for j in range(1, height - 1):\n",
    "              Result[i][j] = ((mask[0][0]*array[i-1][j-1]) + (mask[0][1]*array[i-1][j])+ (mask[0][2]*array[i-1][j+1])\n",
    "                              + (mask[1][0]*array[i][j-1]) + (mask[1][1]*array[i][j]) + (mask[1][2]*array[i][j+1])  \n",
    "                              + (mask[2][0]*array[i+1][j-1]) + (mask[2][1]*array[i+1][j]) + (mask[2][2]*array[i+1][j+1])) \n",
    "    return Result\n",
    "\n",
    "\n",
    "def applyFilter5 (array , mask):\n",
    "    \n",
    "    width, height = array.shape\n",
    "    Result = np.zeros((width,height),dtype=int)\n",
    "    \n",
    "    for i in range(1,width - 1):\n",
    "        for j in range(1, height - 1):\n",
    "              Result[i][j] = ((mask[1][1]*array[i-1][j-1]) + (mask[1][2]*array[i-1][j])+ (mask[1][3]*array[i-1][j+1])\n",
    "                              + (mask[2][1]*array[i][j-1]) + (mask[2][2]*array[i][j]) + (mask[2][3]*array[i][j+1])  \n",
    "                              + (mask[3][1]*array[i+1][j-1]) + (mask[3][2]*array[i+1][j]) + (mask[3][3]*array[i+1][j+1])\n",
    "                              \n",
    "                              + (mask[0][0]*array[i-2][j-2]) + (mask[0][1]*array[i-2][j-1]) + (mask[0][2]*array[i-2][j]) + (mask[0][3]*array[i-2][j+1])+ (mask[0][4]*array[i-2][j+2]) \n",
    "                              + (mask[1][0]*array[i-1][j-2]) + (mask[1][4]*array[i-1][j+2]) \n",
    "                              + (mask[3][0]*array[i+1][j-2]) + (mask[3][4]*array[i+1][j+2]) \n",
    "                              + (mask[4][0]*array[i+2][j-2]) + (mask[4][1]*array[i+2][j-1]) + (mask[4][2]*array[i+2][j]) + (mask[4][3]*array[i+2][j+1])+ (mask[4][4]*array[i+2][j+2])) \n",
    "                      \n",
    "    return Result\n",
    "    "
   ]
  },
  {
   "cell_type": "code",
   "execution_count": null,
   "metadata": {
    "ExecuteTime": {
     "end_time": "2021-01-17T07:26:56.814683Z",
     "start_time": "2021-01-17T07:26:05.994Z"
    }
   },
   "outputs": [],
   "source": [
    "# print(sobel_gx)\n",
    "# print(\"\\n\\n\" ,img_new)\n",
    "\n",
    "Result1 = applyFilter3(img_new , sobel_gx)\n",
    "Result1 = del_margin(Result1, 1, 1, 1, 1)\n",
    "print(\"\\n\\n\" ,Result1)\n",
    "Result1 = np.absolute(Result1)\n",
    "print(\"\\n\\n\" ,Result1)\n",
    "\n",
    "Result2 = applyFilter3(img_new , sobel_gy)\n",
    "Result2 = del_margin(Result2, 1, 1, 1, 1)\n",
    "print(\"\\n\\n\" ,Result2)\n",
    "Result2 = np.absolute(Result2)\n",
    "print(\"\\n\\n\" ,Result2)"
   ]
  },
  {
   "cell_type": "code",
   "execution_count": null,
   "metadata": {
    "ExecuteTime": {
     "end_time": "2021-01-17T07:26:56.814683Z",
     "start_time": "2021-01-17T07:26:05.998Z"
    }
   },
   "outputs": [],
   "source": [
    "\n",
    "print(Result1+Result2)"
   ]
  },
  {
   "cell_type": "code",
   "execution_count": null,
   "metadata": {
    "ExecuteTime": {
     "end_time": "2021-01-17T07:26:56.814683Z",
     "start_time": "2021-01-17T07:26:06.002Z"
    }
   },
   "outputs": [],
   "source": [
    "img2arr = np.array((\n",
    "        (10, 20, 25, 15, 15 ,14 ,12),\n",
    "        (12, 14, 150, 175, 170 , 13 , 20),\n",
    "        (10, 12, 172, 189, 175 , 20 , 14),\n",
    "        (14, 180, 185, 172, 180 , 14 ,15),\n",
    "        (14, 180, 175, 173, 180 , 185 ,10),\n",
    "        (12, 9, 181, 180, 154 , 150 , 10),\n",
    "        (13, 10, 11, 12, 14 , 12 ,11),\n",
    "        \n",
    "      ))\n",
    "\n",
    "print(imgarr)\n",
    "\n",
    "img2=Image.fromarray(img2arr)\n",
    "#img=ImageOps.grayscale(img)\n",
    "img2 = img2.convert('L')\n",
    "#img.show()\n",
    "print(\"\\n\\n\" , np.asarray(img2))"
   ]
  },
  {
   "cell_type": "code",
   "execution_count": null,
   "metadata": {
    "ExecuteTime": {
     "end_time": "2021-01-17T07:26:56.814683Z",
     "start_time": "2021-01-17T07:26:06.006Z"
    }
   },
   "outputs": [],
   "source": [
    "print(\"\\n\\n\" , np.array(img2))\n",
    "\n",
    "fig = plt.figure(figsize =(10, 7)) \n",
    "\n",
    "plt.hist(np.array(img2),bins = np.arange(255))  \n",
    "  \n",
    "plt.title(\"Histogram\")  \n",
    "  \n",
    "# show plot \n",
    "plt.show() "
   ]
  },
  {
   "cell_type": "code",
   "execution_count": null,
   "metadata": {
    "ExecuteTime": {
     "end_time": "2021-01-17T07:26:56.814683Z",
     "start_time": "2021-01-17T07:26:06.010Z"
    }
   },
   "outputs": [],
   "source": [
    "print(np.array(img2).min() , np.array(img2).max())\n",
    "init_thresh = np.mean([9,189])\n",
    "print(\"thresh = \" ,init_thesh)"
   ]
  },
  {
   "cell_type": "code",
   "execution_count": null,
   "metadata": {
    "ExecuteTime": {
     "end_time": "2021-01-17T07:26:56.814683Z",
     "start_time": "2021-01-17T07:26:06.013Z"
    }
   },
   "outputs": [],
   "source": [
    "img21 = img2.point(lambda p: p > init_thesh and 255)\n",
    "print(\"\\n\\n\" , np.asarray(img21))"
   ]
  },
  {
   "cell_type": "code",
   "execution_count": null,
   "metadata": {},
   "outputs": [],
   "source": []
  },
  {
   "cell_type": "markdown",
   "metadata": {},
   "source": [
    "## Basic Global Thresholding"
   ]
  },
  {
   "cell_type": "code",
   "execution_count": null,
   "metadata": {
    "ExecuteTime": {
     "end_time": "2021-01-17T07:26:56.814683Z",
     "start_time": "2021-01-17T07:26:06.020Z"
    }
   },
   "outputs": [],
   "source": [
    "def global_threshold(pilimg , thresh0):\n",
    "\n",
    "    imgarr = np.array(pilimg)\n",
    "\n",
    "    condition1 = imgarr > init_thesh\n",
    "    condition2 = imgarr <= init_thesh\n",
    "    \n",
    "    high = imgarr[condition1]\n",
    "    low = imgarr[condition2] \n",
    "\n",
    "    thresh = round((high.mean() + low.mean())/2)\n",
    "\n",
    "    if abs(thresh - thresh0) > 0:\n",
    "        return global_threshold(pilimg , thresh)\n",
    "    else:\n",
    "        return thresh\n",
    "\n",
    "print(\"initial Thresh = \" ,init_thresh)\n",
    "\n",
    "new_thresh = global_threshold(img2 , init_thresh)\n",
    "\n",
    "print(\"Global Thresholding Algo = \", new_thresh)"
   ]
  },
  {
   "cell_type": "code",
   "execution_count": null,
   "metadata": {},
   "outputs": [],
   "source": []
  },
  {
   "cell_type": "code",
   "execution_count": null,
   "metadata": {},
   "outputs": [],
   "source": []
  },
  {
   "cell_type": "code",
   "execution_count": null,
   "metadata": {},
   "outputs": [],
   "source": []
  },
  {
   "cell_type": "markdown",
   "metadata": {},
   "source": [
    "### Huffman code"
   ]
  },
  {
   "cell_type": "code",
   "execution_count": null,
   "metadata": {
    "ExecuteTime": {
     "end_time": "2021-01-17T07:26:56.814683Z",
     "start_time": "2021-01-17T07:26:06.035Z"
    }
   },
   "outputs": [],
   "source": [
    "import math\n",
    "import sys\n",
    "global probabilities\n",
    "probabilities = []\n",
    "\n",
    "class HuffmanCode:\n",
    "    def __init__(self,probability):\n",
    "        self.probability = probability\n",
    "\n",
    "    def position(self, value, index):\n",
    "        for j in range(len(self.probability)):\n",
    "            if(value >= self.probability[j]):\n",
    "                return j\n",
    "        return index-1\n",
    "\n",
    "    def characteristics_huffman_code(self, code):\n",
    "        length_of_code = [len(k) for k in code]\n",
    "\n",
    "        mean_length = sum([a*b for a, b in zip(length_of_code, self.probability)])\n",
    "\n",
    "        print(\"Average length of the code: %f\" % mean_length)\n",
    "        #print(\"Efficiency of the code: %f\" % (entropy_of_code/mean_length))\n",
    "\n",
    "    def compute_code(self):\n",
    "        num = len(self.probability)\n",
    "        huffman_code = ['']*num\n",
    "\n",
    "        for i in range(num-2):\n",
    "            val = self.probability[num-i-1] + self.probability[num-i-2]\n",
    "            if(huffman_code[num-i-1] != '' and huffman_code[num-i-2] != ''):\n",
    "                huffman_code[-1] = ['0' + symbol for symbol in huffman_code[-1]]\n",
    "                huffman_code[-2] = ['1' + symbol for symbol in huffman_code[-2]]\n",
    "            elif(huffman_code[num-i-1] != ''):\n",
    "                huffman_code[num-i-2] = '1'\n",
    "                huffman_code[-1] = ['0' + symbol for symbol in huffman_code[-1]]\n",
    "            elif(huffman_code[num-i-2] != ''):\n",
    "                huffman_code[num-i-1] = '0'\n",
    "                huffman_code[-2] = ['1' + symbol for symbol in huffman_code[-2]]\n",
    "            else:\n",
    "                huffman_code[num-i-1] = '0'\n",
    "                huffman_code[num-i-2] = '1'\n",
    "\n",
    "            position = self.position(val, i)\n",
    "            probability = self.probability[0:(len(self.probability) - 2)]\n",
    "            probability.insert(position, val)\n",
    "            if(isinstance(huffman_code[num-i-2], list) and isinstance(huffman_code[num-i-1], list)):\n",
    "                complete_code = huffman_code[num-i-1] + huffman_code[num-i-2]\n",
    "            elif(isinstance(huffman_code[num-i-2], list)):\n",
    "                complete_code = huffman_code[num-i-2] + [huffman_code[num-i-1]]\n",
    "            elif(isinstance(huffman_code[num-i-1], list)):\n",
    "                complete_code = huffman_code[num-i-1] + [huffman_code[num-i-2]]\n",
    "            else:\n",
    "                complete_code = [huffman_code[num-i-2], huffman_code[num-i-1]]\n",
    "\n",
    "            huffman_code = huffman_code[0:(len(huffman_code)-2)]\n",
    "            huffman_code.insert(position, complete_code)\n",
    "\n",
    "        huffman_code[0] = ['1' + symbol for symbol in huffman_code[0]]\n",
    "        huffman_code[1] = ['0' + symbol for symbol in huffman_code[1]]\n",
    "\n",
    "        if(len(huffman_code[1]) == 0):\n",
    "            huffman_code[1] = '0'\n",
    "\n",
    "        count = 0\n",
    "        final_code = ['']*num\n",
    "\n",
    "        for i in range(2):\n",
    "            for j in range(len(huffman_code[i])):\n",
    "                final_code[count] = huffman_code[i][j]\n",
    "                count += 1\n",
    "\n",
    "        final_code = sorted(final_code, key=len)\n",
    "        return final_code\n",
    "\n",
    "string = input(\"Enter the string to compute Huffman Code: \")\n",
    "\n",
    "freq = {}\n",
    "for c in string:\n",
    "    if c in freq:\n",
    "        freq[c] += 1\n",
    "    else:\n",
    "        freq[c] = 1\n",
    "\n",
    "freq = sorted(freq.items(), key=lambda x: x[1], reverse=True)\n",
    "length = len(string)\n",
    "\n",
    "probabilities = [float(\"{:.2f}\".format(frequency[1]/length)) for frequency in freq]\n",
    "probabilities = sorted(probabilities, reverse=True)\n",
    "\n",
    "huffmanClassObject = HuffmanCode(probabilities)\n",
    "P = probabilities\n",
    "\n",
    "huffman_code = huffmanClassObject.compute_code()\n",
    "\n",
    "print(' Char | Huffman code ')\n",
    "print('----------------------')\n",
    "\n",
    "for id,char in enumerate(freq):\n",
    "    if huffman_code[id]=='':\n",
    "        print(' %-4r |%12s' % (char[0], 0))\n",
    "        continue\n",
    "    print(' %-4r |%12s' % (char[0], huffman_code[id]))\n",
    "\n",
    "huffmanClassObject.characteristics_huffman_code(huffman_code)"
   ]
  },
  {
   "cell_type": "code",
   "execution_count": null,
   "metadata": {
    "ExecuteTime": {
     "end_time": "2021-01-17T07:26:56.814683Z",
     "start_time": "2021-01-17T07:26:06.039Z"
    }
   },
   "outputs": [],
   "source": [
    "### Huffman Compression\n",
    "\n",
    "print(\"Huffan Compression Program\")\n",
    "print(\"***********************************\")\n",
    "\n",
    "my_str = input(\"Please enter a string to compress :\")\n",
    "len_my_str = len(my_str)\n",
    "print(\"Your message is : \")\n",
    "print(my_str)\n",
    "print(\"Your Data is\" , len_my_str * 8 , \"bits long !\")\n",
    "\n",
    "\n",
    "\n",
    "### creates alist of characters and their frequncy and a list of characters in use\n",
    "\n",
    "letters = []\n",
    "only_letters = []\n",
    "\n",
    "for letter in my_str:\n",
    "    if letter not in letters:\n",
    "        freq = my_str.count(letter)\n",
    "        letters.append(freq)\n",
    "        letters.append(letter)\n",
    "        only_letters.append(letter)\n",
    "\n",
    "\n",
    "## generates base-level nodes for huffman tree frequency and letter\n",
    "\n",
    "nodes = []\n",
    "while len(letters) > 0:\n",
    "    nodes.append(letters[0:2])\n",
    "    letters = letters[2:]\n",
    "nodes.sort()\n",
    "huffman_tree = []\n",
    "huffman_tree.append(nodes)\n",
    "\n",
    "\n",
    "## recursively combines basenodes to crate the huffman tree and allocates wither a 0 or 1 to each\n",
    "## pair of nodes prop to combining which weill be later used to create the binary code for each letter.\n",
    "\n",
    "\n",
    "def combine(nodes):\n",
    "    pos = 0\n",
    "    newnode = []\n",
    "    # get 2 lowest nodes\n",
    "    if len(nodes) > 1:\n",
    "        nodes.sort()\n",
    "        ## adds in the 0,1 for later use\n",
    "        nodes[pos].append(\"0\")\n",
    "        nodes[pos+1].append(\"1\")\n",
    "        combined_node1 = (nodes[pos][0] + nodes[pos+1][0])\n",
    "        combined_node2 = (nodes[pos][1] + nodes[pos+1][1])\n",
    "        newnode.append(combined_node1)\n",
    "        newnode.append(combined_node2)\n",
    "        newnodes = []\n",
    "        newnodes.append(newnode)\n",
    "        newnodes = newnodes + nodes[2:]\n",
    "        nodes = newnodes\n",
    "        huffman_tree.append(nodes)\n",
    "        combine(nodes)\n",
    "    return huffman_tree\n",
    "\n",
    "\n",
    "newnodes = combine(nodes)\n",
    "\n",
    "## invert the tree\n",
    "\n",
    "huffman_tree.sort(reverse = True)\n",
    "print(\"Here is Huffman Tree , Showing the merged nodes and binary pathways.\")\n",
    "\n",
    "## removes duplicate items in the huffman tree and creates an array CHECKLIST with just the nodes and the correct\n",
    "\n",
    "checklist = []\n",
    "for level in huffman_tree:\n",
    "    for node in level:\n",
    "        if node not in checklist:\n",
    "            checklist.append(node)\n",
    "        else:\n",
    "            level.remove(node)\n",
    "\n",
    "count = 0\n",
    "for level in huffman_tree:\n",
    "    print(\"LEVEL \",count,\":\",level)\n",
    "    count += 1\n",
    "\n",
    "print()\n",
    "\n",
    "\n",
    "### builds the binary codess for each character\n",
    "\n",
    "letter_binary = []\n",
    "if len(only_letters) == 1:\n",
    "    letter_code = [only_letters[0] ,\"0\"]\n",
    "    letter_binary.append(letter_code * len(my_string))\n",
    "else:\n",
    "    for letter in only_letters:\n",
    "        lettercode = \"\"\n",
    "        for node in checklist:\n",
    "            if len(node) > 2 and letter in node[1]:\n",
    "                lettercode = lettercode + node[2]\n",
    "        letter_code = [letter,lettercode]\n",
    "        letter_binary.append(letter_code)\n",
    "\n",
    "\n",
    "## outputs letters with binary codes\n",
    "\n",
    "print(\"Your binary codes are as follows:\")\n",
    "for letter in letter_binary:\n",
    "    print(letter[0] , letter[1])\n",
    "\n",
    "## creates bitstring of the oroginal message using new codes generated for each letter\n",
    "\n",
    "bitstring = \"\"\n",
    "for character in my_str:\n",
    "    for item in letter_binary:\n",
    "        if character in item:\n",
    "            bitstring = bitstring + item[1]\n",
    "\n",
    "## convert the string to an actual binary digit\n",
    "\n",
    "binary = ((bin(int(bitstring , base = 2))))\n",
    "\n",
    "## summary of compressed data\n",
    "\n",
    "uncompressed_file_size = len(my_str)*8\n",
    "compressed_file_size = len(binary) - 2\n",
    "\n",
    "print(\"\\n\\nYour original file size was\" ,uncompressed_file_size , \"bits.\\t The compreesed file is of \" ,compressed_file_size , \"bits\")\n",
    "\n",
    "print(\"The bits saved are : \" ,uncompressed_file_size - compressed_file_size )\n",
    "print(\"Binary code is \",binary[2:])\n",
    "\n"
   ]
  },
  {
   "cell_type": "code",
   "execution_count": null,
   "metadata": {
    "ExecuteTime": {
     "end_time": "2021-01-17T07:26:56.814683Z",
     "start_time": "2021-01-17T07:26:06.043Z"
    }
   },
   "outputs": [],
   "source": [
    "# Example Huffman coding implementation\n",
    "# Distributions are represented as dictionaries of { 'symbol': probability }\n",
    "# Codes are dictionaries too: { 'symbol': 'codeword' }\n",
    "\n",
    "def Huffman(p):\n",
    "    '''Return a Huffman code for an ensemble with distribution p.'''\n",
    "    assert(round(sum(p.values()) ,2) == 1.0) # Ensure probabilities sum to 1\n",
    "\n",
    "    # Base case of only two symbols, assign 0 or 1 arbitrarily\n",
    "    if(len(p) == 2):\n",
    "        return dict(zip(p.keys(), ['0', '1'])) ## for root node\n",
    "\n",
    "    # Create a new distribution by merging lowest prob. pair\n",
    "    p_prime = p.copy()\n",
    "    a1, a2 = lowest_prob_pair(p) # keys of lowest prob\n",
    "    p1, p2 = p_prime.pop(a1), p_prime.pop(a2)  # p_prime removes items a1 and a2 , value of items is in p1 & p2\n",
    "    p_prime[a1 + a2] = p1 + p2 # new item added by combining above\n",
    "\n",
    "    # Recurse and construct code on new distribution\n",
    "    c = Huffman(p_prime)\n",
    "    ca1a2 = c.pop(a1 + a2) # binary values of prev nodes , delete combined node\n",
    "    c[a1], c[a2] = ca1a2 + '0', ca1a2 + '1' # divide combined node and attach 0 and 1 to left ,right child resp.\n",
    "\n",
    "    return c\n",
    "\n",
    "def lowest_prob_pair(p):\n",
    "    '''Return pair of symbols from distribution p with lowest probabilities.'''\n",
    "    assert(len(p) >= 2) # Ensure there are at least 2 symbols in the dist.\n",
    "\n",
    "    sorted_p = sorted(p.items(), key=lambda x: x[1]) # sort dict items by 2nd value of dict\n",
    "    return sorted_p[0][0], sorted_p[1][0]            # return 1st and 2nd key of sorted dict"
   ]
  },
  {
   "cell_type": "code",
   "execution_count": null,
   "metadata": {
    "ExecuteTime": {
     "end_time": "2021-01-17T07:26:56.814683Z",
     "start_time": "2021-01-17T07:26:06.047Z"
    }
   },
   "outputs": [],
   "source": [
    "ex1 = { 's': 0.5, 'a': 0.25, 'r': 0.25 }\n",
    "Huffman(ex1)\n"
   ]
  },
  {
   "cell_type": "code",
   "execution_count": null,
   "metadata": {
    "ExecuteTime": {
     "end_time": "2021-01-17T07:26:56.814683Z",
     "start_time": "2021-01-17T07:26:06.050Z"
    }
   },
   "outputs": [],
   "source": [
    "ex1 = { 's': 0.1, 'n': 0.3, 'd': 0.2 , 'e': 0.3 , 'r' : 0.1 }\n",
    "\n",
    "Huffman(ex1)"
   ]
  },
  {
   "cell_type": "code",
   "execution_count": null,
   "metadata": {},
   "outputs": [],
   "source": []
  },
  {
   "cell_type": "code",
   "execution_count": null,
   "metadata": {},
   "outputs": [],
   "source": []
  },
  {
   "cell_type": "code",
   "execution_count": null,
   "metadata": {
    "ExecuteTime": {
     "end_time": "2021-01-17T07:26:56.830307Z",
     "start_time": "2021-01-17T07:26:06.060Z"
    }
   },
   "outputs": [],
   "source": [
    "import numpy as np\n",
    "\n",
    "\n",
    "\n",
    "my_str = input(\"Please enter a string to compress :\")\n",
    "len_my_str = len(my_str)\n",
    "print(\"Your message is : \")\n",
    "print(my_str)\n",
    "print(\"Your Data is\" , len_my_str * 8 , \"bits long !\")\n",
    "my_str = my_str * 1000000\n",
    "\n",
    "\n",
    "### creates alist of characters and their frequncy and a list of characters in use\n",
    "\n",
    "letters = []\n",
    "frequency = []\n",
    "freq_dict = {}\n",
    "\n",
    "\n",
    "for letter in my_str:\n",
    "    if letter not in letters: # for unique letters\n",
    "        freq = my_str.count(letter)\n",
    "        freq_dict[letter] = freq\n",
    "        frequency.append(freq)\n",
    "        letters.append(letter)\n",
    "        #only_letters.append(letter)\n",
    "        \n",
    "        \n",
    "letters,frequency = np.array(letters),np.array(frequency)      \n",
    "\n",
    "prob = np.array(freqency / np.sum(freqency))\n",
    "\n",
    "combined_dict = dict(zip(letters,prob))  \n",
    "        \n",
    "# print(letters)\n",
    "# print(freqency)\n",
    "# print(prob)\n",
    "# print(freq_dict)\n",
    "# print(combined_dict)\n",
    "# huffman(combined_dict)"
   ]
  },
  {
   "cell_type": "code",
   "execution_count": null,
   "metadata": {
    "ExecuteTime": {
     "end_time": "2021-01-17T07:26:56.830307Z",
     "start_time": "2021-01-17T07:26:06.064Z"
    }
   },
   "outputs": [],
   "source": [
    "print(freq_dict.values())\n",
    "\n",
    "#print(sum(freq_dict.values()))\n",
    "prob1 = np.array(list(freq_dict.values())) / sum(freq_dict.values())\n",
    "combined_dict1 = dict(zip(letters,prob1))\n",
    "\n",
    "print(list(freq_dict.keys()))\n",
    "print(prob1)\n",
    "print(combined_dict1)"
   ]
  },
  {
   "cell_type": "code",
   "execution_count": null,
   "metadata": {},
   "outputs": [],
   "source": []
  },
  {
   "cell_type": "code",
   "execution_count": null,
   "metadata": {
    "ExecuteTime": {
     "end_time": "2021-01-17T07:26:56.830307Z",
     "start_time": "2021-01-17T07:26:06.071Z"
    }
   },
   "outputs": [],
   "source": [
    "def freqdict_to_probdict(freq_dict):\n",
    "    import numpy as np\n",
    "    prob = np.array(list(freq_dict.values())) / sum(freq_dict.values())\n",
    "    new_dict = dict(zip(list(freq_dict.keys()),prob.round(5)))\n",
    "    return new_dict\n",
    "\n",
    "\n",
    "def str_to_probdict(my_str):\n",
    "    import numpy as np\n",
    "    letters = []\n",
    "    frequency = []\n",
    "    \n",
    "    for letter in my_str:\n",
    "        if letter not in letters: # for unique letters\n",
    "            freq = my_str.count(letter)\n",
    "            frequency.append(freq)\n",
    "            letters.append(letter)\n",
    "               \n",
    "    letters,frequency = np.array(letters),np.array(frequency)      \n",
    "    prob = np.array(frequency / np.sum(frequency))\n",
    "    combined_dict = dict(zip(letters,prob))\n",
    "    return combined_dict\n",
    "    "
   ]
  },
  {
   "cell_type": "code",
   "execution_count": null,
   "metadata": {
    "ExecuteTime": {
     "end_time": "2021-01-17T07:26:56.830307Z",
     "start_time": "2021-01-17T07:26:06.075Z"
    }
   },
   "outputs": [],
   "source": [
    "print(freq_dict)\n",
    "freqdict_to_probdict(freq_dict)\n",
    "print(sum(my.values()))\n"
   ]
  },
  {
   "cell_type": "code",
   "execution_count": null,
   "metadata": {
    "ExecuteTime": {
     "end_time": "2021-01-17T07:26:56.830307Z",
     "start_time": "2021-01-17T07:26:06.079Z"
    }
   },
   "outputs": [],
   "source": [
    "str = \"ssaaaahillll\"\n",
    "#print(str)\n",
    "newdict = str_to_probdict(str)\n",
    "print(newdict)\n",
    "print(sum(newdict.values()))"
   ]
  },
  {
   "cell_type": "code",
   "execution_count": null,
   "metadata": {},
   "outputs": [],
   "source": []
  },
  {
   "cell_type": "code",
   "execution_count": null,
   "metadata": {
    "ExecuteTime": {
     "end_time": "2021-01-17T07:26:56.830307Z",
     "start_time": "2021-01-17T07:26:06.085Z"
    }
   },
   "outputs": [],
   "source": [
    "ex1 = { 's': 0.5, 'a': 0.25, 'r': 0.25 }\n",
    "print(ex1)"
   ]
  },
  {
   "cell_type": "code",
   "execution_count": null,
   "metadata": {},
   "outputs": [],
   "source": []
  },
  {
   "cell_type": "code",
   "execution_count": null,
   "metadata": {},
   "outputs": [],
   "source": []
  },
  {
   "cell_type": "code",
   "execution_count": null,
   "metadata": {},
   "outputs": [],
   "source": []
  },
  {
   "cell_type": "code",
   "execution_count": null,
   "metadata": {
    "ExecuteTime": {
     "end_time": "2021-01-17T07:26:56.830307Z",
     "start_time": "2021-01-17T07:26:06.098Z"
    },
    "scrolled": true
   },
   "outputs": [],
   "source": [
    "sorted_p = sorted(ex1.items(), key=lambda x: x[1])\n",
    "print(sorted_p)"
   ]
  },
  {
   "cell_type": "code",
   "execution_count": null,
   "metadata": {
    "ExecuteTime": {
     "end_time": "2021-01-17T07:26:56.830307Z",
     "start_time": "2021-01-17T07:26:06.102Z"
    }
   },
   "outputs": [],
   "source": [
    "a1, a2 = 'a' ,'r'\n",
    "print(a1+a2)"
   ]
  },
  {
   "cell_type": "code",
   "execution_count": null,
   "metadata": {
    "ExecuteTime": {
     "end_time": "2021-01-17T07:26:56.830307Z",
     "start_time": "2021-01-17T07:26:06.106Z"
    }
   },
   "outputs": [],
   "source": [
    "p1, p2 = ex1.pop(a1), ex1.pop(a2)\n",
    "print(p1 ,p2)"
   ]
  },
  {
   "cell_type": "code",
   "execution_count": null,
   "metadata": {},
   "outputs": [],
   "source": []
  },
  {
   "cell_type": "code",
   "execution_count": null,
   "metadata": {
    "ExecuteTime": {
     "end_time": "2021-01-17T07:26:56.830307Z",
     "start_time": "2021-01-17T07:26:06.113Z"
    }
   },
   "outputs": [],
   "source": [
    "# Example Huffman coding implementation\n",
    "# Distributions are represented as dictionaries of { 'symbol': probability }\n",
    "# Codes are dictionaries too: { 'symbol': 'codeword' }\n",
    "\n",
    "def Huffman(p):\n",
    "    '''Return a Huffman code for an ensemble with distribution p.'''\n",
    "    assert(round(sum(p.values()) ,2) == 1.0) # Ensure probabilities sum to 1\n",
    "\n",
    "    # Base case of only two symbols, assign 0 or 1 arbitrarily\n",
    "    if(len(p) == 2):\n",
    "        return dict(zip(p.keys(), ['0', '1'])) ## for root node\n",
    "\n",
    "    # Create a new distribution by merging lowest prob. pair\n",
    "    p_prime = p.copy()\n",
    "    a1, a2 = lowest_prob_pair(p) # keys of lowest prob\n",
    "    p1, p2 = p_prime.pop(a1), p_prime.pop(a2)  # p_prime removes items a1 and a2 , value of items is in p1 & p2\n",
    "    p_prime[a1 + a2] = p1 + p2 # new item added by combining above\n",
    "\n",
    "    # Recurse and construct code on new distribution\n",
    "    c = Huffman(p_prime)\n",
    "    ca1a2 = c.pop(a1 + a2) # binary values of prev nodes , delete combined node\n",
    "    c[a1], c[a2] = ca1a2 + '0', ca1a2 + '1' # divide combined node and attach 0 and 1 to left ,right child resp.\n",
    "\n",
    "    return c\n",
    "\n",
    "def lowest_prob_pair(p):\n",
    "    '''Return pair of symbols from distribution p with lowest probabilities.'''\n",
    "    assert(len(p) >= 2) # Ensure there are at least 2 symbols in the dist.\n",
    "\n",
    "    sorted_p = sorted(p.items(), key=lambda x: x[1]) # sort dict items by 2nd value of dict\n",
    "    return sorted_p[0][0], sorted_p[1][0]            # return 1st and 2nd key of sorted dict"
   ]
  },
  {
   "cell_type": "code",
   "execution_count": null,
   "metadata": {
    "ExecuteTime": {
     "end_time": "2021-01-17T07:26:56.830307Z",
     "start_time": "2021-01-17T07:26:06.116Z"
    }
   },
   "outputs": [],
   "source": [
    "def freqdict_to_probdict(freq_dict):\n",
    "    import numpy as np\n",
    "    prob = np.array(list(freq_dict.values())) / sum(freq_dict.values())\n",
    "    new_dict = dict(zip(list(freq_dict.keys()),prob.round(5)))\n",
    "    return new_dict\n",
    "\n",
    "\n",
    "def str_to_probdict(my_str):\n",
    "    import numpy as np\n",
    "    letters = []\n",
    "    frequency = []\n",
    "    \n",
    "    for letter in my_str:\n",
    "        if letter not in letters: # for unique letters\n",
    "            freq = my_str.count(letter)\n",
    "            frequency.append(freq)\n",
    "            letters.append(letter)\n",
    "               \n",
    "    letters,frequency = np.array(letters),np.array(frequency)      \n",
    "    prob = np.array(frequency / np.sum(frequency))\n",
    "    combined_dict = dict(zip(letters,prob))\n",
    "    return combined_dict"
   ]
  },
  {
   "cell_type": "markdown",
   "metadata": {},
   "source": [
    "### Driver code for compressing string using HUFFMAN"
   ]
  },
  {
   "cell_type": "code",
   "execution_count": null,
   "metadata": {
    "ExecuteTime": {
     "end_time": "2021-01-17T07:26:56.830307Z",
     "start_time": "2021-01-17T07:26:06.121Z"
    }
   },
   "outputs": [],
   "source": [
    "###\n",
    "\n",
    "my_str = input(\"Please enter a string to compress :\")\n",
    "print(\"Your message is : \")\n",
    "print(my_str)\n",
    "old_size = len(my_str) * 8\n",
    "print(\"Your Data is of \" , old_size , \"bits !\")\n",
    "newdict = str_to_probdict(my_str)\n",
    "huffmancode = Huffman(newdict)\n",
    "print(huffmancode)\n",
    "\n",
    "binary = \"\"\n",
    "\n",
    "for letter in my_str:\n",
    "    binary += str(huffmancode[letter])\n",
    "    \n",
    "print(\"Binary code is :\" ,binary)\n",
    "new_size = len(binary)\n",
    "print(\"Your Compressed Data is of\" , new_size , \"bits !\")\n",
    "print(\"you saved\" , old_size - new_size , \"Bits using Huffman Code for compression !\")\n",
    "print(\"Average bits per character : \", round(new_size / len(my_str) ,2))\n",
    "print(\"Compression Ratio for this word is :\", int(old_size/new_size) ,\": 1\")"
   ]
  },
  {
   "cell_type": "code",
   "execution_count": null,
   "metadata": {},
   "outputs": [],
   "source": []
  },
  {
   "cell_type": "markdown",
   "metadata": {},
   "source": [
    "### Driver code for compressing prob dict using HUFFMAN"
   ]
  },
  {
   "cell_type": "code",
   "execution_count": null,
   "metadata": {
    "ExecuteTime": {
     "end_time": "2021-01-17T07:26:56.830307Z",
     "start_time": "2021-01-17T07:26:06.129Z"
    }
   },
   "outputs": [],
   "source": [
    "n = int(input(\"Please enter no of items you want in dictionary  :\"))\n",
    "\n",
    "dict_prob = {}\n",
    "\n",
    "for i in range(n):\n",
    "    key = input(\"enter key :\")\n",
    "    print(\"Enter value for key : \",key)\n",
    "    value = float(input())\n",
    "    dict_prob[key] = value\n",
    "    \n",
    "print(\"\\n\\n\",dict_prob)\n",
    "\n",
    "old_size = sum(dict_prob.values()) * 800\n",
    "print(\"\\nYour Data is of \" , old_size , \"bits !\")\n",
    "huffmancodedict = Huffman(dict_prob)\n",
    "\n",
    "\n",
    "sorted_old = dict(sorted(dict_prob.items(), key=lambda x: x[0])) # sort dict items by 2nd value of dict\n",
    "sorted_new = dict(sorted(huffmancodedict.items(), key=lambda x: x[0])) # sort dict items by 2nd value of dict\n",
    "\n",
    "print(\"\\n\\nThe Huffman code for given dictionary is : \\n\",sorted_new)\n",
    "\n",
    "new_bits = list(sorted_new.values()) \n",
    "bits_len = np.array([len(i) for i in new_bits])\n",
    "\n",
    "len_dict = dict(zip(list(sorted_new.keys()),bits_len))\n",
    "print(\"\\n\\nThe New length of bits : \\n\",len_dict)\n",
    "\n",
    "\n",
    "freq = np.array(list(sorted_old.values()))\n",
    "\n",
    "new_size = round(sum(freq * bits_len)*100 ,2)\n",
    "\n",
    "\n",
    "print(\"\\n\\nYour Compressed Data is of\" , new_size , \"bits !\")\n",
    "print(\"\\nyou saved\" , old_size - new_size , \"Bits using Huffman Code for compression !\")\n",
    "print(\"Average bits per character : \", round(new_size / 100 ,2))\n",
    "print(\"Compression Ratio is :\", int(old_size/new_size) ,\": 1\")"
   ]
  },
  {
   "cell_type": "code",
   "execution_count": null,
   "metadata": {},
   "outputs": [],
   "source": []
  },
  {
   "cell_type": "markdown",
   "metadata": {},
   "source": [
    "## Image array to freq distribution"
   ]
  },
  {
   "cell_type": "code",
   "execution_count": null,
   "metadata": {
    "ExecuteTime": {
     "end_time": "2021-01-17T07:26:56.845938Z",
     "start_time": "2021-01-17T07:26:06.136Z"
    }
   },
   "outputs": [],
   "source": [
    "imgarr = np.array(([21,21,21,95,169,243,243,243],\n",
    "                  [21,21,21,95,169,243,243,243],\n",
    "                  [21,21,21,95,169,243,243,243],\n",
    "                  [21,21,21,95,169,243,243,243]))\n",
    "print(imgarr)\n",
    "\n",
    "unique_elements, counts_elements = np.unique(imgarr, return_counts=True)\n",
    "dict_freq = dict(zip(unique_elements ,counts_elements ))\n",
    "dict_freq\n",
    "\n"
   ]
  },
  {
   "cell_type": "code",
   "execution_count": null,
   "metadata": {
    "ExecuteTime": {
     "end_time": "2021-01-17T07:26:56.845938Z",
     "start_time": "2021-01-17T07:26:06.140Z"
    }
   },
   "outputs": [],
   "source": [
    "print(imgarr)\n",
    "print(\"\\n\\nFrequency of intensities :\\n\" ,dict_freq)\n",
    "\n",
    "old_size = sum(dict_freq.values()) * 8\n",
    "print(\"\\nYour Data is of \" , old_size , \"bits !\")\n",
    "newdict = freqdict_to_probdict(dict_freq)\n",
    "huffmancodedict = Huffman(newdict)\n",
    "\n",
    "\n",
    "sorted_old = dict(sorted(dict_freq.items(), key=lambda x: x[0])) # sort dict items by 2nd value of dict\n",
    "sorted_new = dict(sorted(huffmancodedict.items(), key=lambda x: x[0])) # sort dict items by 2nd value of dict\n",
    "\n",
    "print(\"\\n\\nThe Huffman code for given dictionary is : \\n\",sorted_new)\n",
    "\n",
    "new_bits = list(sorted_new.values()) \n",
    "bits_len = np.array([len(i) for i in new_bits])\n",
    "\n",
    "len_dict = dict(zip(list(sorted_new.keys()),bits_len))\n",
    "print(\"\\n\\nThe New length of bits : \\n\",len_dict)\n",
    "\n",
    "\n",
    "freq = np.array(list(sorted_old.values()))\n",
    "\n",
    "new_size = sum(freq * bits_len)\n",
    "\n",
    "\n",
    "print(\"\\n\\nYour Compressed Data is of\" , new_size , \"bits !\")\n",
    "print(\"\\nyou saved\" , old_size - new_size , \"Bits using Huffman Code for compression !\")\n",
    "print(\"Average bits per intensity : \", round(new_size / sum(dict_freq.values()) ,2))\n",
    "print(\"Compression Ratio  is :\", int(old_size/new_size) ,\": 1\")"
   ]
  },
  {
   "cell_type": "code",
   "execution_count": null,
   "metadata": {},
   "outputs": [],
   "source": []
  },
  {
   "cell_type": "code",
   "execution_count": null,
   "metadata": {},
   "outputs": [],
   "source": []
  },
  {
   "cell_type": "markdown",
   "metadata": {},
   "source": [
    "### Driver code for compressing freq dict using HUFFMAN"
   ]
  },
  {
   "cell_type": "code",
   "execution_count": null,
   "metadata": {
    "ExecuteTime": {
     "end_time": "2021-01-17T07:26:56.845938Z",
     "start_time": "2021-01-17T07:26:06.151Z"
    }
   },
   "outputs": [],
   "source": [
    "n = int(input(\"Please enter no of items you want in dictionary  :\"))\n",
    "\n",
    "dict_freq = {}\n",
    "\n",
    "for i in range(n):\n",
    "    key = input(\"enter key :\")\n",
    "    print(\"Enter value for key : \",key)\n",
    "    value = int(input())\n",
    "    dict_freq[key] = value\n",
    "    \n",
    "print(\"\\n\\n\",dict_freq)\n",
    "\n",
    "old_size = sum(dict_freq.values()) * 8\n",
    "print(\"\\nYour Data is of \" , old_size , \"bits !\")\n",
    "newdict = freqdict_to_probdict(dict_freq)\n",
    "huffmancodedict = Huffman(newdict)\n",
    "\n",
    "\n",
    "sorted_old = dict(sorted(dict_freq.items(), key=lambda x: x[0])) # sort dict items by 2nd value of dict\n",
    "sorted_new = dict(sorted(huffmancodedict.items(), key=lambda x: x[0])) # sort dict items by 2nd value of dict\n",
    "\n",
    "print(\"\\n\\nThe Huffman code for given dictionary is : \\n\",sorted_new)\n",
    "\n",
    "new_bits = list(sorted_new.values()) \n",
    "bits_len = np.array([len(i) for i in new_bits])\n",
    "\n",
    "len_dict = dict(zip(list(sorted_new.keys()),bits_len))\n",
    "print(\"\\n\\nThe New length of bits : \\n\",len_dict)\n",
    "\n",
    "\n",
    "freq = np.array(list(sorted_old.values()))\n",
    "\n",
    "new_size = sum(freq * bits_len)\n",
    "\n",
    "\n",
    "print(\"\\n\\nYour Compressed Data is of\" , new_size , \"bits !\")\n",
    "print(\"\\nyou saved\" , old_size - new_size , \"Bits using Huffman Code for compression !\")\n",
    "print(\"Average bits per character: \", round(new_size / sum(dict_freq.values()) ,2))\n",
    "print(\"Compression Ratio is :\", int(old_size/new_size) ,\": 1\")\n"
   ]
  },
  {
   "cell_type": "code",
   "execution_count": null,
   "metadata": {},
   "outputs": [],
   "source": []
  },
  {
   "cell_type": "markdown",
   "metadata": {},
   "source": [
    "## HUFFMAN Decoding"
   ]
  },
  {
   "cell_type": "code",
   "execution_count": null,
   "metadata": {
    "ExecuteTime": {
     "end_time": "2021-01-17T07:26:56.845938Z",
     "start_time": "2021-01-17T07:26:06.160Z"
    }
   },
   "outputs": [],
   "source": [
    "huffdict = {'a1': '0', 'a2': '10', 'a3': '1110', 'a4': '1111', 'a5': '1101', 'a6': '1100'}\n",
    "#huffdict = dict(reversed(list(huffdict.items()))) to reverse the list\n",
    "print(\"Huffman codes are :\\n\",huffdict)\n",
    "\n",
    "huffcode = \"0101101010010000011000100\"\n",
    "print(\"\\nDecode the code : \",huffcode)\n",
    "\n",
    "\n",
    "def huffmanDecode (dictionary, text):\n",
    "    res = \"\"\n",
    "    while text:\n",
    "        for k in dictionary.values():\n",
    "            if text.startswith(k):\n",
    "                res += str([key for(key,value) in dictionary.items() if value == k][0])\n",
    "                text = text[len(k):]\n",
    "                \n",
    "    \n",
    "    return res\n",
    "\n",
    "msg = huffmanDecode(huffdict , huffcode)\n",
    "print(\"\\nDeocded message is : \",msg)\n"
   ]
  },
  {
   "cell_type": "markdown",
   "metadata": {},
   "source": [
    "## Driver code for Huffman decoding"
   ]
  },
  {
   "cell_type": "code",
   "execution_count": null,
   "metadata": {
    "ExecuteTime": {
     "end_time": "2021-01-17T07:26:56.845938Z",
     "start_time": "2021-01-17T07:26:06.165Z"
    }
   },
   "outputs": [],
   "source": [
    "huffdict = {'a1': '0', 'a2': '10', 'a3': '1110', 'a4': '1111', 'a5': '1101', 'a6': '1100'}\n",
    "#huffdict = dict(reversed(list(huffdict.items()))) to reverse the list\n",
    "print(\"Huffman codes are :\\n\",huffdict)\n",
    "\n",
    "huffcode = \"0101101010010000011000100\"\n",
    "print(\"\\nDecode the code : \",huffcode)\n",
    "\n",
    "msg = huffmanDecode(huffdict , huffcode)\n",
    "print(\"\\nDeocded message is : \",msg)"
   ]
  },
  {
   "cell_type": "code",
   "execution_count": null,
   "metadata": {},
   "outputs": [],
   "source": []
  },
  {
   "cell_type": "code",
   "execution_count": null,
   "metadata": {},
   "outputs": [],
   "source": []
  },
  {
   "cell_type": "markdown",
   "metadata": {},
   "source": [
    "## Arithmatic Coding for compression"
   ]
  },
  {
   "cell_type": "code",
   "execution_count": null,
   "metadata": {
    "ExecuteTime": {
     "end_time": "2021-01-17T07:26:56.845938Z",
     "start_time": "2021-01-17T07:26:06.176Z"
    }
   },
   "outputs": [],
   "source": [
    "def Arithmatic_coding(dictionary , message):\n",
    "    '''Return a Arithmatic code for a message.'''\n",
    "    assert(round(sum(dictionary.values()) ,2) == 1.0) # Ensure probabilities sum to 1\n",
    "    \n",
    "    import numpy as np\n",
    "    dict_keys = np.array(list(dictionary.keys()))\n",
    "    breaks = np.cumsum(list(dictionary.values()))\n",
    "    new_dict = dict(zip(dict_keys,breaks))\n",
    "    dict_vals = np.array(list(new_dict.values()))\n",
    "    \n",
    "    lower, upper = 0 , 1\n",
    "    dist = round(upper-lower , 5)\n",
    "    for letter in message:\n",
    "        upper = round(lower + dist * float(new_dict[str(letter)]),5)\n",
    "        UP = int(np.where(dict_keys == letter)[0])\n",
    "        if UP != 0:\n",
    "            lower = round(lower + dist * float(dict_vals[UP - 1]),5)\n",
    "        dist = round(upper-lower , 5)\n",
    "        #print(\"letter = \", letter , \"UP = \",UP ,\"upper = \" ,upper , \"lower = \",lower ,\"dist = \",dist)\n",
    "\n",
    "    codeword = (upper+lower)/2\n",
    "    \n",
    "    return codeword\n"
   ]
  },
  {
   "cell_type": "code",
   "execution_count": null,
   "metadata": {
    "ExecuteTime": {
     "end_time": "2021-01-17T07:26:56.845938Z",
     "start_time": "2021-01-17T07:26:06.180Z"
    }
   },
   "outputs": [],
   "source": [
    "n = int(input(\"Please enter no of items you want in dictionary  :\"))\n",
    "\n",
    "dict_prob = {}\n",
    "\n",
    "for i in range(n):\n",
    "    key = input(\"enter key :\")\n",
    "    print(\"Enter value for key : \",key)\n",
    "    value = float(input())\n",
    "    dict_prob[key] = value\n",
    "    \n",
    "print(\"\\n\\nprobability model is\",dict_prob)\n",
    "\n",
    "assert(round(sum(dict_prob.values()) ,2) == 1.0) # Ensure probabilities sum to 1\n",
    "\n",
    "msg = input(\"\\n\\nPlease enter the message :\")\n",
    "\n",
    "code = Arithmatic_coding(dict_prob , msg)\n",
    "print(\"\\n\\nCodeword for your message '\", msg,\"' is '\",code,\"'\")\n",
    "\n",
    "\n"
   ]
  },
  {
   "cell_type": "code",
   "execution_count": null,
   "metadata": {},
   "outputs": [],
   "source": [
    "\n"
   ]
  },
  {
   "cell_type": "code",
   "execution_count": null,
   "metadata": {},
   "outputs": [],
   "source": []
  },
  {
   "cell_type": "code",
   "execution_count": null,
   "metadata": {},
   "outputs": [],
   "source": []
  },
  {
   "cell_type": "markdown",
   "metadata": {},
   "source": [
    " ## Arithmatic decoding"
   ]
  },
  {
   "cell_type": "code",
   "execution_count": null,
   "metadata": {
    "ExecuteTime": {
     "end_time": "2021-01-17T07:26:56.845938Z",
     "start_time": "2021-01-17T07:26:06.193Z"
    }
   },
   "outputs": [],
   "source": [
    "def Arithmatic_decoding(dictionary , code):\n",
    "    '''Return a Arithmatic decoded message.'''\n",
    "    import numpy as np\n",
    "    assert(round(sum(dictionary.values()) ,2) == 1.0) # Ensure probabilities sum to 1\n",
    "    \n",
    "    lower, upper = 0 , 1\n",
    "    dist = upper - lower\n",
    "    dict_keys = np.array(list(dictionary.keys()))\n",
    "    breaks = np.cumsum(list(dictionary.values()))\n",
    "    new_dict = dict(zip(dict_keys,breaks))\n",
    "    \n",
    "    dict_vals = np.array(list(new_dict.values()))\n",
    "    dict_vals = np.append(0,dict_vals)\n",
    "    breaks = np.append(0,breaks)\n",
    "    \n",
    "    msg = np.array([])\n",
    "    while(np.array_equal(sorted(np.unique(msg)), sorted(dict_keys)) == False):\n",
    "    \n",
    "        LB = int(np.where(breaks <= code)[0][-1])\n",
    "        UB = int(np.where(breaks > code)[0][0])\n",
    "        #print(\"UB = \",UB , \"LB = \",LB )\n",
    "        upper , letter = round(breaks[UB],20)  ,dict_keys[LB]\n",
    "        if LB != 0:\n",
    "            lower = round(breaks[LB],20)\n",
    "\n",
    "        dist = round(upper - lower ,20)\n",
    "        msg = np.append(msg ,str(letter))\n",
    "        breaks = lower + (dist * dict_vals)\n",
    "        #breaks[0] = lower\n",
    "        #print(breaks)\n",
    "        #print(\"letter = \", letter, \"upper = \",upper ,\"lower = \" ,lower ,\"dist =\" ,dist ,\"msg = \" ,msg)\n",
    "\n",
    "    \n",
    "    message = ''.join(msg)\n",
    "    return message\n",
    "\n",
    "    \n",
    "    "
   ]
  },
  {
   "cell_type": "code",
   "execution_count": null,
   "metadata": {
    "ExecuteTime": {
     "end_time": "2021-01-17T07:26:56.845938Z",
     "start_time": "2021-01-17T07:26:06.197Z"
    }
   },
   "outputs": [],
   "source": [
    "n = int(input(\"Please enter no of items you want in dictionary  :\"))\n",
    "\n",
    "dict_prob = {}\n",
    "\n",
    "for i in range(n):\n",
    "    key = input(\"enter key :\")\n",
    "    print(\"Enter value for key : \",key)\n",
    "    value = float(input())\n",
    "    dict_prob[key] = value\n",
    "    \n",
    "print(\"\\n\\nprobability model is\",dict_prob)\n",
    "\n",
    "assert(round(sum(dict_prob.values()) ,2) == 1.0) # Ensure probabilities sum to 1\n",
    "\n",
    "code = float(input(\"\\n\\nPlease enter the codeword to decode :\"))\n",
    "\n",
    "msg = Arithmatic_decoding(dict_prob , code)\n",
    "print(\"\\n\\nDecoded message from your codeword \", code,\" is '\",msg,\"'\")"
   ]
  },
  {
   "cell_type": "code",
   "execution_count": null,
   "metadata": {},
   "outputs": [],
   "source": []
  },
  {
   "cell_type": "code",
   "execution_count": null,
   "metadata": {},
   "outputs": [],
   "source": []
  },
  {
   "cell_type": "code",
   "execution_count": null,
   "metadata": {
    "ExecuteTime": {
     "end_time": "2021-01-17T07:26:56.845938Z",
     "start_time": "2021-01-17T07:26:06.207Z"
    }
   },
   "outputs": [],
   "source": [
    "import numpy as np\n",
    "\n",
    "dictionary = { 'e': 0.3, 'n': 0.3, 't' : 0.2 , 'w' : 0.1, '$': 0.1  }\n",
    "codeword = 0.81611\n",
    "\n",
    "\n",
    "assert(round(sum(dictionary.values()) ,2) == 1.0) # Ensure probabilities sum to 1\n",
    "    \n",
    "lower, upper = 0 , 1\n",
    "dist = upper - lower\n",
    "\n",
    "dict_keys = np.array(list(dictionary.keys()))\n",
    "\n",
    "\n",
    "print(\"keys= \",dict_keys)\n",
    "\n",
    "breaks = np.cumsum(list(dictionary.values()))\n",
    "\n",
    "\n",
    "new_dict = dict(zip(dict_keys,breaks))\n",
    "\n",
    "dict_vals = np.array(list(new_dict.values()))\n",
    "dict_vals = np.append(0,dict_vals)\n",
    "print(\"vals = \",dict_vals)\n",
    "\n",
    "breaks = np.append(0,breaks)\n",
    "print(\"brks = \" ,breaks)\n",
    "print(\"dict = \",new_dict)\n",
    "\n",
    "\n",
    "\n",
    "\n"
   ]
  },
  {
   "cell_type": "code",
   "execution_count": null,
   "metadata": {},
   "outputs": [],
   "source": []
  },
  {
   "cell_type": "code",
   "execution_count": null,
   "metadata": {
    "ExecuteTime": {
     "end_time": "2021-01-17T07:26:56.861564Z",
     "start_time": "2021-01-17T07:26:06.215Z"
    }
   },
   "outputs": [],
   "source": [
    "msg = np.array([])\n",
    "\n",
    "while(np.array_equal(sorted(np.unique(msg)), sorted(dict_keys)) == False):\n",
    "    \n",
    "    print(np.array_equal(sorted(np.unique(msg)), sorted(dict_keys)))\n",
    "    LB = int(np.where(breaks < codeword)[0][-1])\n",
    "    UB = int(np.where(breaks > codeword)[0][0])\n",
    "    print(\"UB = \",UB , \"LB = \",LB )\n",
    "    upper , letter = round(breaks[UB],5)  ,dict_keys[LB]\n",
    "    if LB != 0:\n",
    "        lower = round(breaks[LB],5)\n",
    "        \n",
    "    dist = round(upper - lower ,5)\n",
    "    msg = np.append(msg ,str(letter))\n",
    "    breaks = lower + (dist * dict_vals)\n",
    "    breaks[0] = lower\n",
    "    print(breaks)\n",
    "\n",
    "\n",
    "\n",
    "    print(\"letter = \", letter, \"upper = \",upper ,\"lower = \" ,lower ,\"dist =\" ,dist ,\"msg = \" ,msg)\n",
    "    #print(\"number = \", num , \"UP = \",UP ,\"upper = \" ,upper , \"lower = \",lower ,\"dist = \",dist)\n",
    "    \n",
    "codeword = ''.join(msg)\n",
    "print(\"Decoded message is :\" ,codeword)"
   ]
  },
  {
   "cell_type": "code",
   "execution_count": null,
   "metadata": {
    "ExecuteTime": {
     "end_time": "2021-01-17T07:26:56.861564Z",
     "start_time": "2021-01-17T07:26:06.218Z"
    }
   },
   "outputs": [],
   "source": [
    "0.04 + (0.08*0.2)"
   ]
  },
  {
   "cell_type": "code",
   "execution_count": null,
   "metadata": {
    "ExecuteTime": {
     "end_time": "2021-01-17T07:26:56.861564Z",
     "start_time": "2021-01-17T07:26:06.222Z"
    }
   },
   "outputs": [],
   "source": [
    "0.12 - 0.04"
   ]
  },
  {
   "cell_type": "code",
   "execution_count": null,
   "metadata": {
    "ExecuteTime": {
     "end_time": "2021-01-17T07:26:56.861564Z",
     "start_time": "2021-01-17T07:26:06.225Z"
    }
   },
   "outputs": [],
   "source": [
    "arr1 = sorted(np.unique(msg))\n",
    "arr2= sorted(dict_keys)\n",
    "np.array_equal(arr1 ,arr2)"
   ]
  },
  {
   "cell_type": "code",
   "execution_count": null,
   "metadata": {
    "ExecuteTime": {
     "end_time": "2021-01-17T07:26:56.861564Z",
     "start_time": "2021-01-17T07:26:06.229Z"
    }
   },
   "outputs": [],
   "source": [
    "arr = np.array([1,2,3,4,4,5,3,])\n",
    "np.unique(arr)\n",
    "arr2 = np.array"
   ]
  },
  {
   "cell_type": "code",
   "execution_count": null,
   "metadata": {
    "ExecuteTime": {
     "end_time": "2021-01-17T07:26:56.861564Z",
     "start_time": "2021-01-17T07:26:06.233Z"
    }
   },
   "outputs": [],
   "source": [
    "-1 == True"
   ]
  },
  {
   "cell_type": "code",
   "execution_count": null,
   "metadata": {
    "ExecuteTime": {
     "end_time": "2021-01-17T07:26:56.861564Z",
     "start_time": "2021-01-17T07:26:06.236Z"
    }
   },
   "outputs": [],
   "source": [
    "~False"
   ]
  },
  {
   "cell_type": "code",
   "execution_count": null,
   "metadata": {
    "ExecuteTime": {
     "end_time": "2021-01-17T07:26:56.861564Z",
     "start_time": "2021-01-17T07:26:06.240Z"
    }
   },
   "outputs": [],
   "source": [
    "int(False)"
   ]
  },
  {
   "cell_type": "code",
   "execution_count": null,
   "metadata": {},
   "outputs": [],
   "source": []
  },
  {
   "cell_type": "markdown",
   "metadata": {},
   "source": [
    "### Colour Image processing"
   ]
  },
  {
   "cell_type": "code",
   "execution_count": null,
   "metadata": {},
   "outputs": [],
   "source": []
  },
  {
   "cell_type": "markdown",
   "metadata": {},
   "source": [
    "1. RGB TO CMY"
   ]
  },
  {
   "cell_type": "code",
   "execution_count": 98,
   "metadata": {
    "ExecuteTime": {
     "end_time": "2021-01-17T07:32:56.632503Z",
     "start_time": "2021-01-17T07:32:56.619512Z"
    }
   },
   "outputs": [
    {
     "data": {
      "text/plain": [
       "array([0.7, 0.5, 0.2])"
      ]
     },
     "execution_count": 98,
     "metadata": {},
     "output_type": "execute_result"
    }
   ],
   "source": [
    "rgb = np.array([0.3 ,0.5,0.8])\n",
    "cmy = 1 - rgb\n",
    "cmy"
   ]
  },
  {
   "cell_type": "code",
   "execution_count": 99,
   "metadata": {
    "ExecuteTime": {
     "end_time": "2021-01-17T07:33:49.037451Z",
     "start_time": "2021-01-17T07:33:49.028472Z"
    }
   },
   "outputs": [
    {
     "data": {
      "text/plain": [
       "array([0.1, 0.9, 0.8])"
      ]
     },
     "execution_count": 99,
     "metadata": {},
     "output_type": "execute_result"
    }
   ],
   "source": [
    "cmy = np.array([0.9 ,0.1,0.2])\n",
    "rgb = 1 - cmy\n",
    "rgb"
   ]
  },
  {
   "cell_type": "code",
   "execution_count": null,
   "metadata": {},
   "outputs": [],
   "source": []
  },
  {
   "cell_type": "markdown",
   "metadata": {},
   "source": [
    "#### RGB to HSI"
   ]
  },
  {
   "cell_type": "markdown",
   "metadata": {},
   "source": [
    "## https://www.rapidtables.com/convert/color/rgb-to-hsv.html\n",
    "\n",
    "## http://www.picturetopeople.org/color_converter.html"
   ]
  },
  {
   "cell_type": "code",
   "execution_count": 121,
   "metadata": {
    "ExecuteTime": {
     "end_time": "2021-01-17T08:03:24.560430Z",
     "start_time": "2021-01-17T08:03:24.543426Z"
    }
   },
   "outputs": [],
   "source": [
    "\n",
    "\n",
    "\n",
    "\n",
    "def RGBTOHSI(R,G,B):\n",
    "    cos = ((R-G + R-B )/2)/(np.sqrt((R-G)**2+(R-B)*(G-B)))\n",
    "    theta = np.arccos(cos)\n",
    "    print(theta)\n",
    "\n",
    "    H = round(theta,2)\n",
    "    if (B > G):\n",
    "        H = round(360 - theta ,2)\n",
    "\n",
    "    I = round(np.mean((R,G,B))*100/255,2)\n",
    "\n",
    "    # prepare for Saturation calc\n",
    "    Imin = np.min((R,G,B))\n",
    "\n",
    "\n",
    "    # S part\n",
    "    S = round((1 - Imin / I )*100 ,2)\n",
    "    return H,S,I\n",
    "\n"
   ]
  },
  {
   "cell_type": "code",
   "execution_count": 122,
   "metadata": {
    "ExecuteTime": {
     "end_time": "2021-01-17T08:03:25.472864Z",
     "start_time": "2021-01-17T08:03:25.460860Z"
    }
   },
   "outputs": [
    {
     "name": "stdout",
     "output_type": "stream",
     "text": [
      "2.8849479962771594\n",
      "10 150 200\n",
      "357.12 78.75 47.06\n"
     ]
    }
   ],
   "source": [
    "R = 10\n",
    "G = 150\n",
    "B = 200\n",
    "\n",
    "H,S,I = RGBTOHSI(R,G,B)\n",
    "\n",
    "print(R,G,B)\n",
    "print(H,S,I)"
   ]
  },
  {
   "cell_type": "code",
   "execution_count": null,
   "metadata": {},
   "outputs": [],
   "source": []
  }
 ],
 "metadata": {
  "kernelspec": {
   "display_name": "Python 3",
   "language": "python",
   "name": "python3"
  },
  "language_info": {
   "codemirror_mode": {
    "name": "ipython",
    "version": 3
   },
   "file_extension": ".py",
   "mimetype": "text/x-python",
   "name": "python",
   "nbconvert_exporter": "python",
   "pygments_lexer": "ipython3",
   "version": "3.7.9"
  }
 },
 "nbformat": 4,
 "nbformat_minor": 4
}
